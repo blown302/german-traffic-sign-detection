{
 "cells": [
  {
   "cell_type": "markdown",
   "metadata": {
    "colab_type": "text",
    "id": "5lLPATy0BPJ_"
   },
   "source": [
    "# Self-Driving Car Engineer Nanodegree\n",
    "\n",
    "## Deep Learning\n",
    "\n",
    "## Project: Build a Traffic Sign Recognition Classifier\n",
    "\n",
    "In this notebook, a template is provided for you to implement your functionality in stages, which is required to successfully complete this project. If additional code is required that cannot be included in the notebook, be sure that the Python code is successfully imported and included in your submission if necessary. \n",
    "\n",
    "> **Note**: Once you have completed all of the code implementations, you need to finalize your work by exporting the iPython Notebook as an HTML document. Before exporting the notebook to html, all of the code cells need to have been run so that reviewers can see the final implementation and output. You can then export the notebook by using the menu above and navigating to  \\n\",\n",
    "    \"**File -> Download as -> HTML (.html)**. Include the finished document along with this notebook as your submission. \n",
    "\n",
    "In addition to implementing code, there is a writeup to complete. The writeup should be completed in a separate file, which can be either a markdown file or a pdf document. There is a [write up template](https://github.com/udacity/CarND-Traffic-Sign-Classifier-Project/blob/master/writeup_template.md) that can be used to guide the writing process. Completing the code template and writeup template will cover all of the [rubric points](https://review.udacity.com/#!/rubrics/481/view) for this project.\n",
    "\n",
    "The [rubric](https://review.udacity.com/#!/rubrics/481/view) contains \"Stand Out Suggestions\" for enhancing the project beyond the minimum requirements. The stand out suggestions are optional. If you decide to pursue the \"stand out suggestions\", you can include the code in this Ipython notebook and also discuss the results in the writeup file.\n",
    "\n",
    "\n",
    ">**Note:** Code and Markdown cells can be executed using the **Shift + Enter** keyboard shortcut. In addition, Markdown cells can be edited by typically double-clicking the cell to enter edit mode."
   ]
  },
  {
   "cell_type": "markdown",
   "metadata": {
    "colab_type": "text",
    "id": "WmnDdYJbBPKA"
   },
   "source": [
    "---\n",
    "## Step 0: Load The Data"
   ]
  },
  {
   "cell_type": "code",
   "execution_count": 34,
   "metadata": {
    "colab": {
     "autoexec": {
      "startup": false,
      "wait_interval": 0
     }
    },
    "colab_type": "code",
    "collapsed": true,
    "id": "zPt-zlHxBPKB"
   },
   "outputs": [],
   "source": [
    "# Load pickled data\n",
    "import pickle\n",
    "import csv\n",
    "\n",
    "# TODO: Fill this in based on where you saved the training and testing data\n",
    "\n",
    "training_file = 'data/train.p'\n",
    "validation_file= 'data/valid.p'\n",
    "testing_file = 'data/test.p'\n",
    "\n",
    "with open(training_file, mode='rb') as f:\n",
    "    train = pickle.load(f)\n",
    "with open(validation_file, mode='rb') as f:\n",
    "    valid = pickle.load(f)\n",
    "with open(testing_file, mode='rb') as f:\n",
    "    test = pickle.load(f)\n",
    "    \n",
    "with open('signnames.csv', 'r') as f:\n",
    "    sign_names = { int(c['ClassId']): c['SignName'] for c in csv.DictReader(f, delimiter=',')}\n",
    "    \n",
    "X_train, y_train = train['features'], train['labels']\n",
    "X_valid, y_valid = valid['features'], valid['labels']\n",
    "X_test, y_test = test['features'], test['labels']"
   ]
  },
  {
   "cell_type": "markdown",
   "metadata": {
    "colab_type": "text",
    "id": "AKuWtvnABPKF"
   },
   "source": [
    "---\n",
    "\n",
    "## Step 1: Dataset Summary & Exploration\n",
    "\n",
    "The pickled data is a dictionary with 4 key/value pairs:\n",
    "\n",
    "- `'features'` is a 4D array containing raw pixel data of the traffic sign images, (num examples, width, height, channels).\n",
    "- `'labels'` is a 1D array containing the label/class id of the traffic sign. The file `signnames.csv` contains id -> name mappings for each id.\n",
    "- `'sizes'` is a list containing tuples, (width, height) representing the original width and height the image.\n",
    "- `'coords'` is a list containing tuples, (x1, y1, x2, y2) representing coordinates of a bounding box around the sign in the image. **THESE COORDINATES ASSUME THE ORIGINAL IMAGE. THE PICKLED DATA CONTAINS RESIZED VERSIONS (32 by 32) OF THESE IMAGES**\n",
    "\n",
    "Complete the basic data summary below. Use python, numpy and/or pandas methods to calculate the data summary rather than hard coding the results. For example, the [pandas shape method](http://pandas.pydata.org/pandas-docs/stable/generated/pandas.DataFrame.shape.html) might be useful for calculating some of the summary results. "
   ]
  },
  {
   "cell_type": "markdown",
   "metadata": {
    "colab_type": "text",
    "id": "1gHwGEucBPKG"
   },
   "source": [
    "### Provide a Basic Summary of the Data Set Using Python, Numpy and/or Pandas"
   ]
  },
  {
   "cell_type": "code",
   "execution_count": 35,
   "metadata": {
    "colab": {
     "autoexec": {
      "startup": false,
      "wait_interval": 0
     },
     "base_uri": "https://localhost:8080/",
     "height": 102
    },
    "colab_type": "code",
    "executionInfo": {
     "elapsed": 308,
     "status": "ok",
     "timestamp": 1526234804243,
     "user": {
      "displayName": "Thomas Milas",
      "photoUrl": "https://lh3.googleusercontent.com/a/default-user=s128",
      "userId": "109720634882425261277"
     },
     "user_tz": 420
    },
    "id": "QyNRQ17ABPKG",
    "outputId": "16cd9ce8-f62b-47ae-d5fb-7a8959c077c0"
   },
   "outputs": [
    {
     "name": "stdout",
     "output_type": "stream",
     "text": [
      "Number of training examples = 34799\n",
      "Number of validation examples = 4410\n",
      "Number of testing examples = 12630\n",
      "Image data shape = (32, 32, 3)\n",
      "Number of classes = 43\n"
     ]
    }
   ],
   "source": [
    "### Replace each question mark with the appropriate value. \n",
    "### Use python, pandas or numpy methods rather than hard coding the results\n",
    "import numpy as np\n",
    "\n",
    "n_train = X_train.shape[0]\n",
    "\n",
    "n_validation = X_valid.shape[0]\n",
    "\n",
    "n_test = X_test.shape[0]\n",
    "\n",
    "image_shape = X_train[0].shape\n",
    "\n",
    "n_classes = len(np.unique(y_train))\n",
    "\n",
    "print(\"Number of training examples =\", n_train)\n",
    "print(\"Number of validation examples =\", n_validation)\n",
    "print(\"Number of testing examples =\", n_test)\n",
    "print(\"Image data shape =\", image_shape)\n",
    "print(\"Number of classes =\", n_classes)"
   ]
  },
  {
   "cell_type": "markdown",
   "metadata": {
    "colab_type": "text",
    "id": "DTv-S6ncBPKM"
   },
   "source": [
    "### Include an exploratory visualization of the dataset"
   ]
  },
  {
   "cell_type": "markdown",
   "metadata": {
    "colab_type": "text",
    "id": "-YVbBmEjBPKM"
   },
   "source": [
    "Visualize the German Traffic Signs Dataset using the pickled file(s). This is open ended, suggestions include: plotting traffic sign images, plotting the count of each sign, etc. \n",
    "\n",
    "The [Matplotlib](http://matplotlib.org/) [examples](http://matplotlib.org/examples/index.html) and [gallery](http://matplotlib.org/gallery.html) pages are a great resource for doing visualizations in Python.\n",
    "\n",
    "**NOTE:** It's recommended you start with something simple first. If you wish to do more, come back to it after you've completed the rest of the sections. It can be interesting to look at the distribution of classes in the training, validation and test set. Is the distribution the same? Are there more examples of some classes than others?"
   ]
  },
  {
   "cell_type": "code",
   "execution_count": 36,
   "metadata": {
    "scrolled": true
   },
   "outputs": [
    {
     "data": {
      "text/plain": [
       "<Container object of 43 artists>"
      ]
     },
     "execution_count": 36,
     "metadata": {},
     "output_type": "execute_result"
    },
    {
     "data": {
      "image/png": "[encoded data removed]",
      "text/plain": [
       "<matplotlib.figure.Figure at 0x13352cd30>"
      ]
     },
     "metadata": {},
     "output_type": "display_data"
    }
   ],
   "source": [
    "import random\n",
    "import numpy as np\n",
    "import matplotlib.pyplot as plt\n",
    "%matplotlib inline\n",
    "\n",
    "X = np.array(list(sign_names.values()))\n",
    "unique, counts = np.unique(y_train, return_counts=True)\n",
    "Y = counts\n",
    "plt.rcParams[\"figure.figsize\"][0] = 18.\n",
    "plt.title('counts of training data')\n",
    "plt.xticks(rotation=60, ha='right')\n",
    "plt.bar(X, Y)"
   ]
  },
  {
   "cell_type": "code",
   "execution_count": 37,
   "metadata": {
    "colab": {
     "autoexec": {
      "startup": false,
      "wait_interval": 0
     },
     "base_uri": "https://localhost:8080/",
     "height": 122
    },
    "colab_type": "code",
    "executionInfo": {
     "elapsed": 396,
     "status": "ok",
     "timestamp": 1526234808140,
     "user": {
      "displayName": "Thomas Milas",
      "photoUrl": "https://lh3.googleusercontent.com/a/default-user=s128",
      "userId": "109720634882425261277"
     },
     "user_tz": 420
    },
    "id": "b-yrzmMbBPKN",
    "outputId": "2b2ec75e-0355-46aa-ae42-f3800ea46a52"
   },
   "outputs": [
    {
     "name": "stdout",
     "output_type": "stream",
     "text": [
      "Beware of ice/snow\n"
     ]
    },
    {
     "data": {
      "image/png": "[encoded data removed]",
      "text/plain": [
       "<matplotlib.figure.Figure at 0x1c454e06a0>"
      ]
     },
     "metadata": {},
     "output_type": "display_data"
    }
   ],
   "source": [
    "import random\n",
    "import numpy as np\n",
    "import matplotlib.pyplot as plt\n",
    "%matplotlib inline\n",
    " \n",
    "\n",
    "index = random.randint(0, len(X_train))\n",
    "image = X_train[index].squeeze()\n",
    "\n",
    "plt.figure(figsize=(1,1))\n",
    "plt.imshow(image)\n",
    "print(sign_names[y_train[index]])"
   ]
  },
  {
   "cell_type": "markdown",
   "metadata": {
    "colab_type": "text",
    "id": "oEpmb1_1BPKQ"
   },
   "source": [
    "----\n",
    "\n",
    "## Step 2: Design and Test a Model Architecture\n",
    "\n",
    "Design and implement a deep learning model that learns to recognize traffic signs. Train and test your model on the [German Traffic Sign Dataset](http://benchmark.ini.rub.de/?section=gtsrb&subsection=dataset).\n",
    "\n",
    "The LeNet-5 implementation shown in the [classroom](https://classroom.udacity.com/nanodegrees/nd013/parts/fbf77062-5703-404e-b60c-95b78b2f3f9e/modules/6df7ae49-c61c-4bb2-a23e-6527e69209ec/lessons/601ae704-1035-4287-8b11-e2c2716217ad/concepts/d4aca031-508f-4e0b-b493-e7b706120f81) at the end of the CNN lesson is a solid starting point. You'll have to change the number of classes and possibly the preprocessing, but aside from that it's plug and play! \n",
    "\n",
    "With the LeNet-5 solution from the lecture, you should expect a validation set accuracy of about 0.89. To meet specifications, the validation set accuracy will need to be at least 0.93. It is possible to get an even higher accuracy, but 0.93 is the minimum for a successful project submission. \n",
    "\n",
    "There are various aspects to consider when thinking about this problem:\n",
    "\n",
    "- Neural network architecture (is the network over or underfitting?)\n",
    "- Play around preprocessing techniques (normalization, rgb to grayscale, etc)\n",
    "- Number of examples per label (some have more than others).\n",
    "- Generate fake data.\n",
    "\n",
    "Here is an example of a [published baseline model on this problem](http://yann.lecun.com/exdb/publis/pdf/sermanet-ijcnn-11.pdf). It's not required to be familiar with the approach used in the paper but, it's good practice to try to read papers like these."
   ]
  },
  {
   "cell_type": "markdown",
   "metadata": {
    "colab_type": "text",
    "id": "JGI0gNUiBPKQ"
   },
   "source": [
    "### Pre-process the Data Set (normalization, grayscale, etc.)"
   ]
  },
  {
   "cell_type": "markdown",
   "metadata": {
    "colab_type": "text",
    "id": "MBvdlG39BPKR"
   },
   "source": [
    "Minimally, the image data should be normalized so that the data has mean zero and equal variance. For image data, `(pixel - 128)/ 128` is a quick way to approximately normalize the data and can be used in this project. \n",
    "\n",
    "Other pre-processing steps are optional. You can try different techniques to see if it improves performance. \n",
    "\n",
    "Use the code cell (or multiple code cells, if necessary) to implement the first step of your project."
   ]
  },
  {
   "cell_type": "code",
   "execution_count": 38,
   "metadata": {
    "colab": {
     "autoexec": {
      "startup": false,
      "wait_interval": 0
     }
    },
    "colab_type": "code",
    "collapsed": true,
    "id": "FWEKHN2zBPKS"
   },
   "outputs": [],
   "source": [
    "### Preprocess the data here. It is required to normalize the data. Other preprocessing steps could include \n",
    "### converting to grayscale, etc.\n",
    "### Feel free to use as many code cells as needed."
   ]
  },
  {
   "cell_type": "markdown",
   "metadata": {
    "colab_type": "text",
    "id": "sB7c7SgcBPKW"
   },
   "source": [
    "### Model Architecture"
   ]
  },
  {
   "cell_type": "code",
   "execution_count": 39,
   "metadata": {
    "colab": {
     "autoexec": {
      "startup": false,
      "wait_interval": 0
     }
    },
    "colab_type": "code",
    "collapsed": true,
    "id": "14YJOK-0BPKX"
   },
   "outputs": [],
   "source": [
    "### Define your architecture here.\n",
    "### Feel free to use as many code cells as needed.\n",
    "from tensorflow.contrib.layers import flatten\n",
    "import tensorflow as tf\n",
    "\n",
    "def LeNet(x, keep_prob):\n",
    "    x = tf.map_fn(lambda frame: tf.image.per_image_standardization(frame), x)\n",
    "    mu = 0\n",
    "    sigma = 0.1\n",
    "    \n",
    "    conv1_W = tf.Variable(tf.truncated_normal(shape=(3, 3, 3, 32), mean = mu, stddev = sigma))\n",
    "    conv1_b = tf.Variable(tf.zeros(32))\n",
    "    conv1   = tf.nn.conv2d(x, conv1_W, strides=[1, 1, 1, 1], padding='VALID') + conv1_b\n",
    "    conv1 = tf.nn.relu(conv1)\n",
    "    conv1 = tf.nn.max_pool(conv1, ksize=[1, 2, 2, 1], strides=[1, 2, 2, 1], padding='VALID')\n",
    "    \n",
    "    conv2_W = tf.Variable(tf.truncated_normal(shape=(3, 3, 32, 64), mean = mu, stddev = sigma))\n",
    "    conv2_b = tf.Variable(tf.zeros(64))\n",
    "    conv2   = tf.nn.conv2d(conv1, conv2_W, strides=[1, 1, 1, 1], padding='VALID') + conv2_b\n",
    "    conv2 = tf.nn.relu(conv2)\n",
    "    conv2 = tf.nn.max_pool(conv2, ksize=[1, 2, 2, 1], strides=[1, 2, 2, 1], padding='VALID')\n",
    "    \n",
    "    conv3_W = tf.Variable(tf.truncated_normal(shape=(3, 3, 64, 128), mean = mu, stddev = sigma))\n",
    "    conv3_b = tf.Variable(tf.zeros(128))\n",
    "    conv3   = tf.nn.conv2d(conv2, conv3_W, strides=[1, 1, 1, 1], padding='VALID') + conv3_b\n",
    "    conv3 = tf.nn.relu(conv3)\n",
    "    conv3 = tf.nn.max_pool(conv3, ksize=[1, 2, 2, 1], strides=[1, 2, 2, 1], padding='VALID')\n",
    "\n",
    "    fc0   = flatten(conv3)\n",
    "    \n",
    "    fc1_W = tf.Variable(tf.truncated_normal(shape=(512, 120), mean = mu, stddev = sigma))\n",
    "    fc1_b = tf.Variable(tf.zeros(120))\n",
    "    fc1   = tf.matmul(fc0, fc1_W) + fc1_b\n",
    "    fc1    = tf.nn.relu(fc1)\n",
    "\n",
    "    fc2_W  = tf.Variable(tf.truncated_normal(shape=(120, 84), mean = mu, stddev = sigma))\n",
    "    fc2_b  = tf.Variable(tf.zeros(84))\n",
    "    fc2    = tf.matmul(fc1, fc2_W) + fc2_b\n",
    "    \n",
    "    fc2    = tf.nn.relu(fc2)\n",
    "\n",
    "    fc3_W  = tf.Variable(tf.truncated_normal(shape=(84, 43), mean = mu, stddev = sigma))\n",
    "    fc3_b  = tf.Variable(tf.zeros(43))\n",
    "    \n",
    "    logits = tf.matmul(fc2, fc3_W) + fc3_b\n",
    "    logits = tf.nn.dropout(logits, keep_prob)\n",
    "    \n",
    "    return logits"
   ]
  },
  {
   "cell_type": "markdown",
   "metadata": {
    "colab_type": "text",
    "id": "sQGaGEwsBPKb"
   },
   "source": [
    "### Train, Validate and Test the Model"
   ]
  },
  {
   "cell_type": "markdown",
   "metadata": {
    "colab_type": "text",
    "id": "gZvnZaOVBPKc"
   },
   "source": [
    "A validation set can be used to assess how well the model is performing. A low accuracy on the training and validation\n",
    "sets imply underfitting. A high accuracy on the training set but low accuracy on the validation set implies overfitting."
   ]
  },
  {
   "cell_type": "code",
   "execution_count": 40,
   "metadata": {
    "colab": {
     "autoexec": {
      "startup": false,
      "wait_interval": 0
     }
    },
    "colab_type": "code",
    "collapsed": true,
    "id": "pPKqdlkABPKf"
   },
   "outputs": [],
   "source": [
    "EPOCHS = 20\n",
    "BATCH_SIZE = 128"
   ]
  },
  {
   "cell_type": "code",
   "execution_count": 41,
   "metadata": {
    "colab": {
     "autoexec": {
      "startup": false,
      "wait_interval": 0
     }
    },
    "colab_type": "code",
    "collapsed": true,
    "id": "jaYgZgFNBPKi"
   },
   "outputs": [],
   "source": [
    "from sklearn.utils import shuffle\n",
    "\n",
    "### Train your model here.\n",
    "x = tf.placeholder(tf.float32, (None, 32, 32, 3))\n",
    "y = tf.placeholder(tf.int32, (None))\n",
    "one_hot_y = tf.one_hot(y, 43)\n",
    "\n",
    "\n",
    "### Calculate and report the accuracy on the training and validation set.\n",
    "### Once a final model architecture is selected, \n",
    "### the accuracy on the test set should be calculated and reported as well.\n",
    "### Feel free to use as many code cells as needed."
   ]
  },
  {
   "cell_type": "code",
   "execution_count": 43,
   "metadata": {
    "colab": {
     "autoexec": {
      "startup": false,
      "wait_interval": 0
     }
    },
    "colab_type": "code",
    "id": "miuBQ7GgBPKk"
   },
   "outputs": [
    {
     "name": "stdout",
     "output_type": "stream",
     "text": [
      "WARNING:tensorflow:From <ipython-input-43-2604404e9941>:5: softmax_cross_entropy_with_logits (from tensorflow.python.ops.nn_ops) is deprecated and will be removed in a future version.\n",
      "Instructions for updating:\n",
      "\n",
      "Future major versions of TensorFlow will allow gradients to flow\n",
      "into the labels input on backprop by default.\n",
      "\n",
      "See tf.nn.softmax_cross_entropy_with_logits_v2.\n",
      "\n"
     ]
    }
   ],
   "source": [
    "rate = 0.001\n",
    "keep_prob = tf.placeholder(tf.float32)\n",
    "\n",
    "logits = LeNet(x, keep_prob)\n",
    "cross_entropy = tf.nn.softmax_cross_entropy_with_logits(labels=one_hot_y, logits=logits)\n",
    "loss_operation = tf.reduce_mean(cross_entropy)\n",
    "optimizer = tf.train.AdamOptimizer(learning_rate = rate)\n",
    "training_operation = optimizer.minimize(loss_operation)"
   ]
  },
  {
   "cell_type": "code",
   "execution_count": 44,
   "metadata": {
    "colab": {
     "autoexec": {
      "startup": false,
      "wait_interval": 0
     }
    },
    "colab_type": "code",
    "collapsed": true,
    "id": "e9frxHoDC_Rr"
   },
   "outputs": [],
   "source": [
    "correct_prediction = tf.equal(tf.argmax(logits, 1), tf.argmax(one_hot_y, 1))\n",
    "accuracy_operation = tf.reduce_mean(tf.cast(correct_prediction, tf.float32))\n",
    "saver = tf.train.Saver()\n",
    "\n",
    "def evaluate(X_data, y_data):\n",
    "    num_examples = len(X_data)\n",
    "    total_accuracy = 0\n",
    "    sess = tf.get_default_session()\n",
    "    for offset in range(0, num_examples, BATCH_SIZE):\n",
    "        batch_x, batch_y = X_data[offset:offset+BATCH_SIZE], y_data[offset:offset+BATCH_SIZE]\n",
    "        accuracy = sess.run(accuracy_operation, feed_dict={x: batch_x, y: batch_y, keep_prob: 1.})\n",
    "        total_accuracy += (accuracy * len(batch_x))\n",
    "    return total_accuracy / num_examples"
   ]
  },
  {
   "cell_type": "code",
   "execution_count": 45,
   "metadata": {
    "colab": {
     "autoexec": {
      "startup": false,
      "wait_interval": 0
     },
     "base_uri": "https://localhost:8080/",
     "height": 1428
    },
    "colab_type": "code",
    "executionInfo": {
     "elapsed": 234623,
     "status": "ok",
     "timestamp": 1526235062441,
     "user": {
      "displayName": "Thomas Milas",
      "photoUrl": "https://lh3.googleusercontent.com/a/default-user=s128",
      "userId": "109720634882425261277"
     },
     "user_tz": 420
    },
    "id": "0I0VGR3FBPKo",
    "outputId": "1fa10969-9494-4b0c-b5a6-a28a7d5bf168"
   },
   "outputs": [
    {
     "name": "stdout",
     "output_type": "stream",
     "text": [
      "Training...\n",
      "Tensor(\"Placeholder_4:0\", dtype=float32)\n",
      "EPOCH 1 ...\n",
      "Training Accuracy = 88.3%\n",
      "Validation Accuracy = 79.5%\n",
      "\n",
      "EPOCH 2 ...\n",
      "Training Accuracy = 93.7%\n",
      "Validation Accuracy = 88.5%\n",
      "\n",
      "EPOCH 3 ...\n",
      "Training Accuracy = 96.4%\n",
      "Validation Accuracy = 91.5%\n",
      "\n",
      "EPOCH 4 ...\n",
      "Training Accuracy = 100.0%\n",
      "Validation Accuracy = 92.7%\n",
      "\n",
      "EPOCH 5 ...\n",
      "Training Accuracy = 100.0%\n",
      "Validation Accuracy = 94.6%\n",
      "\n",
      "EPOCH 6 ...\n",
      "Training Accuracy = 99.1%\n",
      "Validation Accuracy = 93.6%\n",
      "\n",
      "EPOCH 7 ...\n",
      "Training Accuracy = 100.0%\n",
      "Validation Accuracy = 94.7%\n",
      "\n",
      "EPOCH 8 ...\n",
      "Training Accuracy = 100.0%\n",
      "Validation Accuracy = 94.8%\n",
      "\n",
      "EPOCH 9 ...\n",
      "Training Accuracy = 100.0%\n",
      "Validation Accuracy = 95.8%\n",
      "\n",
      "EPOCH 10 ...\n",
      "Training Accuracy = 99.1%\n",
      "Validation Accuracy = 95.6%\n",
      "\n",
      "EPOCH 11 ...\n",
      "Training Accuracy = 100.0%\n",
      "Validation Accuracy = 94.7%\n",
      "\n",
      "EPOCH 12 ...\n",
      "Training Accuracy = 100.0%\n",
      "Validation Accuracy = 95.9%\n",
      "\n",
      "EPOCH 13 ...\n",
      "Training Accuracy = 100.0%\n",
      "Validation Accuracy = 96.1%\n",
      "\n",
      "EPOCH 14 ...\n",
      "Training Accuracy = 100.0%\n",
      "Validation Accuracy = 95.6%\n",
      "\n",
      "EPOCH 15 ...\n",
      "Training Accuracy = 100.0%\n",
      "Validation Accuracy = 96.0%\n",
      "\n",
      "EPOCH 16 ...\n",
      "Training Accuracy = 100.0%\n",
      "Validation Accuracy = 94.3%\n",
      "\n",
      "EPOCH 17 ...\n",
      "Training Accuracy = 100.0%\n",
      "Validation Accuracy = 96.2%\n",
      "\n",
      "EPOCH 18 ...\n",
      "Training Accuracy = 99.1%\n",
      "Validation Accuracy = 95.1%\n",
      "\n",
      "EPOCH 19 ...\n",
      "Training Accuracy = 100.0%\n",
      "Validation Accuracy = 96.6%\n",
      "\n",
      "EPOCH 20 ...\n",
      "Training Accuracy = 100.0%\n",
      "Validation Accuracy = 96.0%\n",
      "\n",
      "Model saved\n"
     ]
    }
   ],
   "source": [
    "with tf.Session() as sess:\n",
    "    sess.run(tf.global_variables_initializer())\n",
    "    num_examples = len(X_train)\n",
    "    print(\"Training...\")\n",
    "    print(keep_prob)\n",
    "    for i in range(EPOCHS):\n",
    "        X_train, y_train = shuffle(X_train, y_train)\n",
    "        for offset in range(0, num_examples, BATCH_SIZE):\n",
    "            end = offset + BATCH_SIZE\n",
    "            batch_x, batch_y = X_train[offset:end], y_train[offset:end]\n",
    "            sess.run(training_operation, feed_dict={x: batch_x, y: batch_y, keep_prob: .5})\n",
    "            \n",
    "        traiing_accuracy = evaluate(batch_x, batch_y)\n",
    "        validation_accuracy = evaluate(X_valid, y_valid)\n",
    "        print(\"EPOCH {} ...\".format(i+1))\n",
    "        print(\"Training Accuracy = {:.1%}\".format(traiing_accuracy))\n",
    "        print(\"Validation Accuracy = {:.1%}\".format(validation_accuracy))\n",
    "        print()\n",
    "        \n",
    "    saver.save(sess, './traffic_sign')\n",
    "    print(\"Model saved\")"
   ]
  },
  {
   "cell_type": "markdown",
   "metadata": {
    "colab_type": "text",
    "id": "tSSu0aAa8cQF"
   },
   "source": [
    "# Run Test Set!"
   ]
  },
  {
   "cell_type": "code",
   "execution_count": 46,
   "metadata": {
    "colab": {
     "autoexec": {
      "startup": false,
      "wait_interval": 0
     },
     "base_uri": "https://localhost:8080/",
     "height": 51
    },
    "colab_type": "code",
    "executionInfo": {
     "elapsed": 3379,
     "status": "ok",
     "timestamp": 1526235065873,
     "user": {
      "displayName": "Thomas Milas",
      "photoUrl": "https://lh3.googleusercontent.com/a/default-user=s128",
      "userId": "109720634882425261277"
     },
     "user_tz": 420
    },
    "id": "IfG31mUo8a40",
    "outputId": "1d0781de-cc3e-4b88-f546-51c8b9890578"
   },
   "outputs": [
    {
     "name": "stdout",
     "output_type": "stream",
     "text": [
      "INFO:tensorflow:Restoring parameters from ./traffic_sign\n",
      "Test Accuracy = 94.6%\n"
     ]
    }
   ],
   "source": [
    "with tf.Session() as sess:\n",
    "    saver.restore(sess, tf.train.latest_checkpoint('.'))\n",
    "\n",
    "    test_accuracy = evaluate(X_test, y_test)\n",
    "    print(\"Test Accuracy = {:.1%}\".format(test_accuracy))"
   ]
  },
  {
   "cell_type": "markdown",
   "metadata": {
    "colab_type": "text",
    "id": "swPbD6bUBPKs"
   },
   "source": [
    "---\n",
    "\n",
    "## Step 3: Test a Model on New Images\n",
    "\n",
    "To give yourself more insight into how your model is working, download at least five pictures of German traffic signs from the web and use your model to predict the traffic sign type.\n",
    "\n",
    "You may find `signnames.csv` useful as it contains mappings from the class id (integer) to the actual sign name."
   ]
  },
  {
   "cell_type": "markdown",
   "metadata": {
    "colab_type": "text",
    "id": "2ocrqWHiBPKt"
   },
   "source": [
    "### Load and Output the Images"
   ]
  },
  {
   "cell_type": "markdown",
   "metadata": {
    "colab_type": "text",
    "id": "78xInvnGYn9Z"
   },
   "source": [
    "# Left Arrow Image"
   ]
  },
  {
   "cell_type": "code",
   "execution_count": 47,
   "metadata": {
    "colab": {
     "autoexec": {
      "startup": false,
      "wait_interval": 0
     },
     "base_uri": "https://localhost:8080/",
     "height": 300
    },
    "colab_type": "code",
    "executionInfo": {
     "elapsed": 463,
     "status": "ok",
     "timestamp": 1526235233126,
     "user": {
      "displayName": "Thomas Milas",
      "photoUrl": "https://lh3.googleusercontent.com/a/default-user=s128",
      "userId": "109720634882425261277"
     },
     "user_tz": 420
    },
    "id": "AwmTmEudvgel",
    "outputId": "7bb12dab-7b96-492b-9b10-a6f2d21a14da"
   },
   "outputs": [
    {
     "name": "stdout",
     "output_type": "stream",
     "text": [
      "(32, 32, 3)\n"
     ]
    },
    {
     "data": {
      "text/plain": [
       "<matplotlib.image.AxesImage at 0x11670efd0>"
      ]
     },
     "execution_count": 47,
     "metadata": {},
     "output_type": "execute_result"
    },
    {
     "data": {
      "image/png": "[encoded data removed]",
      "text/plain": [
       "<matplotlib.figure.Figure at 0x1c4f158f60>"
      ]
     },
     "metadata": {},
     "output_type": "display_data"
    }
   ],
   "source": [
    "import numpy as np\n",
    "import matplotlib.pyplot as plt\n",
    "import cv2\n",
    "%matplotlib inline\n",
    "\n",
    "left_arrow_img = plt.imread('left_arrow.jpg')\n",
    "left_arrow_img = left_arrow_img[:, 2:34, :]\n",
    "print(left_arrow_img.shape)\n",
    "plt.imshow(left_arrow_img)"
   ]
  },
  {
   "cell_type": "markdown",
   "metadata": {
    "colab_type": "text",
    "id": "Cgut6ZjUv1ZC"
   },
   "source": [
    "# Yeild Sign"
   ]
  },
  {
   "cell_type": "code",
   "execution_count": 48,
   "metadata": {
    "colab": {
     "autoexec": {
      "startup": false,
      "wait_interval": 0
     },
     "base_uri": "https://localhost:8080/",
     "height": 300
    },
    "colab_type": "code",
    "executionInfo": {
     "elapsed": 494,
     "status": "ok",
     "timestamp": 1526235235894,
     "user": {
      "displayName": "Thomas Milas",
      "photoUrl": "https://lh3.googleusercontent.com/a/default-user=s128",
      "userId": "109720634882425261277"
     },
     "user_tz": 420
    },
    "id": "RyU55kfuDSxm",
    "outputId": "b262574c-8202-4692-89ab-bc07cc563857"
   },
   "outputs": [
    {
     "name": "stdout",
     "output_type": "stream",
     "text": [
      "(32, 32, 3)\n"
     ]
    },
    {
     "data": {
      "text/plain": [
       "<matplotlib.image.AxesImage at 0x116127128>"
      ]
     },
     "execution_count": 48,
     "metadata": {},
     "output_type": "execute_result"
    },
    {
     "data": {
      "image/png": "[encoded data removed]",
      "text/plain": [
       "<matplotlib.figure.Figure at 0x1c4f4f1b00>"
      ]
     },
     "metadata": {},
     "output_type": "display_data"
    }
   ],
   "source": [
    "yeild = plt.imread('yield.jpg')\n",
    "yeild = yeild[:, 1:33, :]\n",
    "print(yeild.shape)\n",
    "plt.imshow(yeild)"
   ]
  },
  {
   "cell_type": "markdown",
   "metadata": {
    "colab_type": "text",
    "id": "tdEelck5v_FH"
   },
   "source": [
    "# Right of Way Next Intersection"
   ]
  },
  {
   "cell_type": "code",
   "execution_count": 49,
   "metadata": {
    "colab": {
     "autoexec": {
      "startup": false,
      "wait_interval": 0
     },
     "base_uri": "https://localhost:8080/",
     "height": 300
    },
    "colab_type": "code",
    "executionInfo": {
     "elapsed": 450,
     "status": "ok",
     "timestamp": 1526235238790,
     "user": {
      "displayName": "Thomas Milas",
      "photoUrl": "https://lh3.googleusercontent.com/a/default-user=s128",
      "userId": "109720634882425261277"
     },
     "user_tz": 420
    },
    "id": "xh5n9kjfv6C4",
    "outputId": "1c938011-ef09-44b6-e565-74aa013a2c6b"
   },
   "outputs": [
    {
     "name": "stdout",
     "output_type": "stream",
     "text": [
      "(32, 32, 3)\n"
     ]
    },
    {
     "data": {
      "text/plain": [
       "<matplotlib.image.AxesImage at 0x1167834a8>"
      ]
     },
     "execution_count": 49,
     "metadata": {},
     "output_type": "execute_result"
    },
    {
     "data": {
      "image/png": "[encoded data removed]",
      "text/plain": [
       "<matplotlib.figure.Figure at 0x1c4f633b38>"
      ]
     },
     "metadata": {},
     "output_type": "display_data"
    }
   ],
   "source": [
    "right_of_way_next_intersection = plt.imread('right_of_way_next_intersection.jpg')\n",
    "right_of_way_next_intersection = right_of_way_next_intersection[:, 3:35, :]\n",
    "print(right_of_way_next_intersection.shape)\n",
    "plt.imshow(right_of_way_next_intersection)"
   ]
  },
  {
   "cell_type": "markdown",
   "metadata": {
    "colab_type": "text",
    "id": "7pAwsDsRwHVp"
   },
   "source": [
    "# Speed 30"
   ]
  },
  {
   "cell_type": "code",
   "execution_count": 50,
   "metadata": {
    "colab": {
     "autoexec": {
      "startup": false,
      "wait_interval": 0
     },
     "base_uri": "https://localhost:8080/",
     "height": 300
    },
    "colab_type": "code",
    "executionInfo": {
     "elapsed": 490,
     "status": "ok",
     "timestamp": 1526235241201,
     "user": {
      "displayName": "Thomas Milas",
      "photoUrl": "https://lh3.googleusercontent.com/a/default-user=s128",
      "userId": "109720634882425261277"
     },
     "user_tz": 420
    },
    "id": "XrngfXYrwK22",
    "outputId": "ac12945b-9818-4da6-e744-ee2f82f35cbb"
   },
   "outputs": [
    {
     "name": "stdout",
     "output_type": "stream",
     "text": [
      "(32, 32, 3)\n"
     ]
    },
    {
     "data": {
      "text/plain": [
       "<matplotlib.image.AxesImage at 0x1156ce860>"
      ]
     },
     "execution_count": 50,
     "metadata": {},
     "output_type": "execute_result"
    },
    {
     "data": {
      "image/png": "[encoded data removed]",
      "text/plain": [
       "<matplotlib.figure.Figure at 0x1167677b8>"
      ]
     },
     "metadata": {},
     "output_type": "display_data"
    }
   ],
   "source": [
    "speed_30 = plt.imread('speed_30.jpg')\n",
    "speed_30 = speed_30[:, 1:33, :]\n",
    "print(speed_30.shape)\n",
    "plt.imshow(speed_30)"
   ]
  },
  {
   "cell_type": "markdown",
   "metadata": {
    "colab_type": "text",
    "id": "_bnHYaU4wO23"
   },
   "source": [
    "# Construction Zone"
   ]
  },
  {
   "cell_type": "code",
   "execution_count": 51,
   "metadata": {
    "colab": {
     "autoexec": {
      "startup": false,
      "wait_interval": 0
     },
     "base_uri": "https://localhost:8080/",
     "height": 300
    },
    "colab_type": "code",
    "executionInfo": {
     "elapsed": 443,
     "status": "ok",
     "timestamp": 1526235243625,
     "user": {
      "displayName": "Thomas Milas",
      "photoUrl": "https://lh3.googleusercontent.com/a/default-user=s128",
      "userId": "109720634882425261277"
     },
     "user_tz": 420
    },
    "id": "aZzzFS3IwTbT",
    "outputId": "6285059e-f9d1-4607-a592-d1f755397a85"
   },
   "outputs": [
    {
     "name": "stdout",
     "output_type": "stream",
     "text": [
      "(32, 32, 3)\n"
     ]
    },
    {
     "data": {
      "text/plain": [
       "<matplotlib.image.AxesImage at 0x1155771d0>"
      ]
     },
     "execution_count": 51,
     "metadata": {},
     "output_type": "execute_result"
    },
    {
     "data": {
      "image/png": "[encoded data removed]",
      "text/plain": [
       "<matplotlib.figure.Figure at 0x1c4f6c4400>"
      ]
     },
     "metadata": {},
     "output_type": "display_data"
    }
   ],
   "source": [
    "construction = plt.imread('construction.png')\n",
    "construction = cv2.cvtColor(construction, cv2.COLOR_RGBA2RGB)\n",
    "construction = construction[:, 2:34, :]\n",
    "print(construction.shape)\n",
    "plt.imshow(construction)"
   ]
  },
  {
   "cell_type": "markdown",
   "metadata": {
    "colab_type": "text",
    "id": "0qPYQIS0BPKw"
   },
   "source": [
    "### Predict the Sign Type for Each Image"
   ]
  },
  {
   "cell_type": "code",
   "execution_count": 52,
   "metadata": {
    "colab": {
     "autoexec": {
      "startup": false,
      "wait_interval": 0
     }
    },
    "colab_type": "code",
    "collapsed": true,
    "id": "-oqoHSZJD8wO"
   },
   "outputs": [],
   "source": [
    "external_X = np.array([left_arrow_img, yeild, right_of_way_next_intersection, speed_30, construction])\n",
    "external_y = np.array([34, 13, 11, 1, 25])"
   ]
  },
  {
   "cell_type": "code",
   "execution_count": 53,
   "metadata": {
    "colab": {
     "autoexec": {
      "startup": false,
      "wait_interval": 0
     },
     "base_uri": "https://localhost:8080/",
     "height": 68
    },
    "colab_type": "code",
    "executionInfo": {
     "elapsed": 475,
     "status": "ok",
     "timestamp": 1526235654533,
     "user": {
      "displayName": "Thomas Milas",
      "photoUrl": "https://lh3.googleusercontent.com/a/default-user=s128",
      "userId": "109720634882425261277"
     },
     "user_tz": 420
    },
    "id": "-d2piQX2BPKx",
    "outputId": "0cb24e0d-8bd2-41d9-b9b5-f72aae386a8d"
   },
   "outputs": [
    {
     "name": "stdout",
     "output_type": "stream",
     "text": [
      "INFO:tensorflow:Restoring parameters from ./traffic_sign\n",
      "logit value: [34 13 11  1 25]\n",
      "correct labels : [34 13 11  1 25]\n"
     ]
    }
   ],
   "source": [
    "### Run the predictions here and use the model to output the prediction for each image.\n",
    "### Make sure to pre-process the images with the same pre-processing pipeline used earlier.\n",
    "### Feel free to use as many code cells as needed.\n",
    "\n",
    "\n",
    "with tf.Session() as sess:\n",
    "    saver.restore(sess, tf.train.latest_checkpoint('.'))\n",
    "    pred = tf.argmax(logits, 1)\n",
    "    res = sess.run(pred, feed_dict={x: external_X, keep_prob: 1., keep_prob_conv: 1.})\n",
    "    print('logit value: {}'.format(res))\n",
    "    print('correct labels : {}'.format(external_y))"
   ]
  },
  {
   "cell_type": "markdown",
   "metadata": {
    "colab_type": "text",
    "id": "9EAVTzi7BPKz"
   },
   "source": [
    "### Analyze Performance"
   ]
  },
  {
   "cell_type": "code",
   "execution_count": 54,
   "metadata": {
    "colab": {
     "autoexec": {
      "startup": false,
      "wait_interval": 0
     },
     "base_uri": "https://localhost:8080/",
     "height": 51
    },
    "colab_type": "code",
    "executionInfo": {
     "elapsed": 625,
     "status": "ok",
     "timestamp": 1526235659533,
     "user": {
      "displayName": "Thomas Milas",
      "photoUrl": "https://lh3.googleusercontent.com/a/default-user=s128",
      "userId": "109720634882425261277"
     },
     "user_tz": 420
    },
    "id": "8pwhZTA7BPK0",
    "outputId": "d44f05a6-d8be-49c5-8e78-df96495461ba"
   },
   "outputs": [
    {
     "name": "stdout",
     "output_type": "stream",
     "text": [
      "INFO:tensorflow:Restoring parameters from ./traffic_sign\n",
      "Test Accuracy = 100.0%\n"
     ]
    }
   ],
   "source": [
    "### Calculate the accuracy for these 5 new images. \n",
    "### For example, if the model predicted 1 out of 5 signs correctly, it's 20% accurate on these new images.\n",
    "\n",
    "with tf.Session() as sess:\n",
    "    saver.restore(sess, tf.train.latest_checkpoint('.'))\n",
    "\n",
    "    test_accuracy = evaluate(external_X, external_y)\n",
    "    print(\"Test Accuracy = {:.1%}\".format(test_accuracy))"
   ]
  },
  {
   "cell_type": "markdown",
   "metadata": {
    "colab_type": "text",
    "id": "SurhZtAxBPK3"
   },
   "source": [
    "### Output Top 5 Softmax Probabilities For Each Image Found on the Web"
   ]
  },
  {
   "cell_type": "markdown",
   "metadata": {
    "colab_type": "text",
    "id": "jJWtipyMBPK4"
   },
   "source": [
    "For each of the new images, print out the model's softmax probabilities to show the **certainty** of the model's predictions (limit the output to the top 5 probabilities for each image). [`tf.nn.top_k`](https://www.tensorflow.org/versions/r0.12/api_docs/python/nn.html#top_k) could prove helpful here. \n",
    "\n",
    "The example below demonstrates how tf.nn.top_k can be used to find the top k predictions for each image.\n",
    "\n",
    "`tf.nn.top_k` will return the values and indices (class ids) of the top k predictions. So if k=3, for each sign, it'll return the 3 largest probabilities (out of a possible 43) and the correspoding class ids.\n",
    "\n",
    "Take this numpy array as an example. The values in the array represent predictions. The array contains softmax probabilities for five candidate images with six possible classes. `tf.nn.top_k` is used to choose the three classes with the highest probability:\n",
    "\n",
    "```\n",
    "# (5, 6) array\n",
    "a = np.array([[ 0.24879643,  0.07032244,  0.12641572,  0.34763842,  0.07893497,\n",
    "         0.12789202],\n",
    "       [ 0.28086119,  0.27569815,  0.08594638,  0.0178669 ,  0.18063401,\n",
    "         0.15899337],\n",
    "       [ 0.26076848,  0.23664738,  0.08020603,  0.07001922,  0.1134371 ,\n",
    "         0.23892179],\n",
    "       [ 0.11943333,  0.29198961,  0.02605103,  0.26234032,  0.1351348 ,\n",
    "         0.16505091],\n",
    "       [ 0.09561176,  0.34396535,  0.0643941 ,  0.16240774,  0.24206137,\n",
    "         0.09155967]])\n",
    "```\n",
    "\n",
    "Running it through `sess.run(tf.nn.top_k(tf.constant(a), k=3))` produces:\n",
    "\n",
    "```\n",
    "TopKV2(values=array([[ 0.34763842,  0.24879643,  0.12789202],\n",
    "       [ 0.28086119,  0.27569815,  0.18063401],\n",
    "       [ 0.26076848,  0.23892179,  0.23664738],\n",
    "       [ 0.29198961,  0.26234032,  0.16505091],\n",
    "       [ 0.34396535,  0.24206137,  0.16240774]]), indices=array([[3, 0, 5],\n",
    "       [0, 1, 4],\n",
    "       [0, 5, 1],\n",
    "       [1, 3, 5],\n",
    "       [1, 4, 3]], dtype=int32))\n",
    "```\n",
    "\n",
    "Looking just at the first row we get `[ 0.34763842,  0.24879643,  0.12789202]`, you can confirm these are the 3 largest probabilities in `a`. You'll also notice `[3, 0, 5]` are the corresponding indices."
   ]
  },
  {
   "cell_type": "code",
   "execution_count": 171,
   "metadata": {
    "colab": {
     "autoexec": {
      "startup": false,
      "wait_interval": 0
     },
     "base_uri": "https://localhost:8080/",
     "height": 867
    },
    "colab_type": "code",
    "executionInfo": {
     "elapsed": 474,
     "status": "ok",
     "timestamp": 1526236475605,
     "user": {
      "displayName": "Thomas Milas",
      "photoUrl": "https://lh3.googleusercontent.com/a/default-user=s128",
      "userId": "109720634882425261277"
     },
     "user_tz": 420
    },
    "id": "1AaK4qseBPK6",
    "outputId": "ee50ded9-47e8-48af-a3d7-fc1a939279cd"
   },
   "outputs": [
    {
     "name": "stdout",
     "output_type": "stream",
     "text": [
      "INFO:tensorflow:Restoring parameters from ./traffic_sign\n"
     ]
    }
   ],
   "source": [
    "### Print out the top five softmax probabilities for the predictions on the German traffic sign images found on the web. \n",
    "### Feel free to use as many code cells as needed.\n",
    "import pandas as pd\n",
    "with tf.Session() as sess:\n",
    "    saver.restore(sess, tf.train.latest_checkpoint('.'))\n",
    "    sm = tf.nn.softmax(logits)\n",
    "    res = sess.run(sm, feed_dict={x: external_X, keep_prob: 1., keep_prob_conv: 1.})\n",
    "    top_k = sess.run(tf.nn.top_k(tf.constant(res), k=5))\n"
   ]
  },
  {
   "cell_type": "code",
   "execution_count": 161,
   "metadata": {
    "collapsed": true
   },
   "outputs": [],
   "source": [
    "def get_data_frame(index):\n",
    "    data = {'value': top_k.values[index], 'name': np.array([sign_names[i] for i in top_k.indices[index]])}\n",
    "    return pd.DataFrame(data, index=top_k.indices[index])"
   ]
  },
  {
   "cell_type": "markdown",
   "metadata": {},
   "source": [
    "# Top 5 Probabilites for Turn left ahead"
   ]
  },
  {
   "cell_type": "code",
   "execution_count": 163,
   "metadata": {},
   "outputs": [
    {
     "data": {
      "text/html": [
       "<style  type=\"text/css\" >\n",
       "</style>  \n",
       "<table id=\"T_32476576_5741_11e8_9940_80e65027a796\" > \n",
       "<thead>    <tr> \n",
       "        <th class=\"blank level0\" ></th> \n",
       "        <th class=\"col_heading level0 col0\" >name</th> \n",
       "        <th class=\"col_heading level0 col1\" >value</th> \n",
       "    </tr></thead> \n",
       "<tbody>    <tr> \n",
       "        <th id=\"T_32476576_5741_11e8_9940_80e65027a796level0_row0\" class=\"row_heading level0 row0\" >34</th> \n",
       "        <td id=\"T_32476576_5741_11e8_9940_80e65027a796row0_col0\" class=\"data row0 col0\" >Turn left ahead</td> \n",
       "        <td id=\"T_32476576_5741_11e8_9940_80e65027a796row0_col1\" class=\"data row0 col1\" >100.00%</td> \n",
       "    </tr>    <tr> \n",
       "        <th id=\"T_32476576_5741_11e8_9940_80e65027a796level0_row1\" class=\"row_heading level0 row1\" >30</th> \n",
       "        <td id=\"T_32476576_5741_11e8_9940_80e65027a796row1_col0\" class=\"data row1 col0\" >Beware of ice/snow</td> \n",
       "        <td id=\"T_32476576_5741_11e8_9940_80e65027a796row1_col1\" class=\"data row1 col1\" >0.00%</td> \n",
       "    </tr>    <tr> \n",
       "        <th id=\"T_32476576_5741_11e8_9940_80e65027a796level0_row2\" class=\"row_heading level0 row2\" >33</th> \n",
       "        <td id=\"T_32476576_5741_11e8_9940_80e65027a796row2_col0\" class=\"data row2 col0\" >Turn right ahead</td> \n",
       "        <td id=\"T_32476576_5741_11e8_9940_80e65027a796row2_col1\" class=\"data row2 col1\" >0.00%</td> \n",
       "    </tr>    <tr> \n",
       "        <th id=\"T_32476576_5741_11e8_9940_80e65027a796level0_row3\" class=\"row_heading level0 row3\" >40</th> \n",
       "        <td id=\"T_32476576_5741_11e8_9940_80e65027a796row3_col0\" class=\"data row3 col0\" >Roundabout mandatory</td> \n",
       "        <td id=\"T_32476576_5741_11e8_9940_80e65027a796row3_col1\" class=\"data row3 col1\" >0.00%</td> \n",
       "    </tr>    <tr> \n",
       "        <th id=\"T_32476576_5741_11e8_9940_80e65027a796level0_row4\" class=\"row_heading level0 row4\" >32</th> \n",
       "        <td id=\"T_32476576_5741_11e8_9940_80e65027a796row4_col0\" class=\"data row4 col0\" >End of all speed and passing limits</td> \n",
       "        <td id=\"T_32476576_5741_11e8_9940_80e65027a796row4_col1\" class=\"data row4 col1\" >0.00%</td> \n",
       "    </tr></tbody> \n",
       "</table> "
      ],
      "text/plain": [
       "<pandas.io.formats.style.Styler at 0x1c4fa0f630>"
      ]
     },
     "execution_count": 163,
     "metadata": {},
     "output_type": "execute_result"
    }
   ],
   "source": [
    "get_data_frame(0).style.format({'value':\"{:.2%}\"})"
   ]
  },
  {
   "cell_type": "markdown",
   "metadata": {},
   "source": [
    "# Top 5 Probabilities for Yield"
   ]
  },
  {
   "cell_type": "code",
   "execution_count": 164,
   "metadata": {},
   "outputs": [
    {
     "data": {
      "text/html": [
       "<style  type=\"text/css\" >\n",
       "</style>  \n",
       "<table id=\"T_4c16d0e2_5741_11e8_8d37_80e65027a796\" > \n",
       "<thead>    <tr> \n",
       "        <th class=\"blank level0\" ></th> \n",
       "        <th class=\"col_heading level0 col0\" >name</th> \n",
       "        <th class=\"col_heading level0 col1\" >value</th> \n",
       "    </tr></thead> \n",
       "<tbody>    <tr> \n",
       "        <th id=\"T_4c16d0e2_5741_11e8_8d37_80e65027a796level0_row0\" class=\"row_heading level0 row0\" >13</th> \n",
       "        <td id=\"T_4c16d0e2_5741_11e8_8d37_80e65027a796row0_col0\" class=\"data row0 col0\" >Yield</td> \n",
       "        <td id=\"T_4c16d0e2_5741_11e8_8d37_80e65027a796row0_col1\" class=\"data row0 col1\" >100.00%</td> \n",
       "    </tr>    <tr> \n",
       "        <th id=\"T_4c16d0e2_5741_11e8_8d37_80e65027a796level0_row1\" class=\"row_heading level0 row1\" >3</th> \n",
       "        <td id=\"T_4c16d0e2_5741_11e8_8d37_80e65027a796row1_col0\" class=\"data row1 col0\" >Speed limit (60km/h)</td> \n",
       "        <td id=\"T_4c16d0e2_5741_11e8_8d37_80e65027a796row1_col1\" class=\"data row1 col1\" >0.00%</td> \n",
       "    </tr>    <tr> \n",
       "        <th id=\"T_4c16d0e2_5741_11e8_8d37_80e65027a796level0_row2\" class=\"row_heading level0 row2\" >35</th> \n",
       "        <td id=\"T_4c16d0e2_5741_11e8_8d37_80e65027a796row2_col0\" class=\"data row2 col0\" >Ahead only</td> \n",
       "        <td id=\"T_4c16d0e2_5741_11e8_8d37_80e65027a796row2_col1\" class=\"data row2 col1\" >0.00%</td> \n",
       "    </tr>    <tr> \n",
       "        <th id=\"T_4c16d0e2_5741_11e8_8d37_80e65027a796level0_row3\" class=\"row_heading level0 row3\" >2</th> \n",
       "        <td id=\"T_4c16d0e2_5741_11e8_8d37_80e65027a796row3_col0\" class=\"data row3 col0\" >Speed limit (50km/h)</td> \n",
       "        <td id=\"T_4c16d0e2_5741_11e8_8d37_80e65027a796row3_col1\" class=\"data row3 col1\" >0.00%</td> \n",
       "    </tr>    <tr> \n",
       "        <th id=\"T_4c16d0e2_5741_11e8_8d37_80e65027a796level0_row4\" class=\"row_heading level0 row4\" >9</th> \n",
       "        <td id=\"T_4c16d0e2_5741_11e8_8d37_80e65027a796row4_col0\" class=\"data row4 col0\" >No passing</td> \n",
       "        <td id=\"T_4c16d0e2_5741_11e8_8d37_80e65027a796row4_col1\" class=\"data row4 col1\" >0.00%</td> \n",
       "    </tr></tbody> \n",
       "</table> "
      ],
      "text/plain": [
       "<pandas.io.formats.style.Styler at 0x1c4fa0fe48>"
      ]
     },
     "execution_count": 164,
     "metadata": {},
     "output_type": "execute_result"
    }
   ],
   "source": [
    "get_data_frame(1).style.format({'value':\"{:.2%}\"})"
   ]
  },
  {
   "cell_type": "markdown",
   "metadata": {},
   "source": [
    "# Top 5 Probabilities for Right-of-way at the next intersection\t"
   ]
  },
  {
   "cell_type": "code",
   "execution_count": 167,
   "metadata": {},
   "outputs": [
    {
     "data": {
      "text/html": [
       "<style  type=\"text/css\" >\n",
       "</style>  \n",
       "<table id=\"T_773c53ee_5741_11e8_84b9_80e65027a796\" > \n",
       "<thead>    <tr> \n",
       "        <th class=\"blank level0\" ></th> \n",
       "        <th class=\"col_heading level0 col0\" >name</th> \n",
       "        <th class=\"col_heading level0 col1\" >value</th> \n",
       "    </tr></thead> \n",
       "<tbody>    <tr> \n",
       "        <th id=\"T_773c53ee_5741_11e8_84b9_80e65027a796level0_row0\" class=\"row_heading level0 row0\" >11</th> \n",
       "        <td id=\"T_773c53ee_5741_11e8_84b9_80e65027a796row0_col0\" class=\"data row0 col0\" >Right-of-way at the next intersection</td> \n",
       "        <td id=\"T_773c53ee_5741_11e8_84b9_80e65027a796row0_col1\" class=\"data row0 col1\" >100.00%</td> \n",
       "    </tr>    <tr> \n",
       "        <th id=\"T_773c53ee_5741_11e8_84b9_80e65027a796level0_row1\" class=\"row_heading level0 row1\" >30</th> \n",
       "        <td id=\"T_773c53ee_5741_11e8_84b9_80e65027a796row1_col0\" class=\"data row1 col0\" >Beware of ice/snow</td> \n",
       "        <td id=\"T_773c53ee_5741_11e8_84b9_80e65027a796row1_col1\" class=\"data row1 col1\" >0.00%</td> \n",
       "    </tr>    <tr> \n",
       "        <th id=\"T_773c53ee_5741_11e8_84b9_80e65027a796level0_row2\" class=\"row_heading level0 row2\" >6</th> \n",
       "        <td id=\"T_773c53ee_5741_11e8_84b9_80e65027a796row2_col0\" class=\"data row2 col0\" >End of speed limit (80km/h)</td> \n",
       "        <td id=\"T_773c53ee_5741_11e8_84b9_80e65027a796row2_col1\" class=\"data row2 col1\" >0.00%</td> \n",
       "    </tr>    <tr> \n",
       "        <th id=\"T_773c53ee_5741_11e8_84b9_80e65027a796level0_row3\" class=\"row_heading level0 row3\" >7</th> \n",
       "        <td id=\"T_773c53ee_5741_11e8_84b9_80e65027a796row3_col0\" class=\"data row3 col0\" >Speed limit (100km/h)</td> \n",
       "        <td id=\"T_773c53ee_5741_11e8_84b9_80e65027a796row3_col1\" class=\"data row3 col1\" >0.00%</td> \n",
       "    </tr>    <tr> \n",
       "        <th id=\"T_773c53ee_5741_11e8_84b9_80e65027a796level0_row4\" class=\"row_heading level0 row4\" >21</th> \n",
       "        <td id=\"T_773c53ee_5741_11e8_84b9_80e65027a796row4_col0\" class=\"data row4 col0\" >Double curve</td> \n",
       "        <td id=\"T_773c53ee_5741_11e8_84b9_80e65027a796row4_col1\" class=\"data row4 col1\" >0.00%</td> \n",
       "    </tr></tbody> \n",
       "</table> "
      ],
      "text/plain": [
       "<pandas.io.formats.style.Styler at 0x1c4fa001d0>"
      ]
     },
     "execution_count": 167,
     "metadata": {},
     "output_type": "execute_result"
    }
   ],
   "source": [
    "get_data_frame(2).style.format({'value':\"{:.2%}\"})"
   ]
  },
  {
   "cell_type": "markdown",
   "metadata": {},
   "source": [
    "# Top 5 Probabilities for Speed limit (30km/h)"
   ]
  },
  {
   "cell_type": "code",
   "execution_count": 168,
   "metadata": {},
   "outputs": [
    {
     "data": {
      "text/html": [
       "<style  type=\"text/css\" >\n",
       "</style>  \n",
       "<table id=\"T_85f6f236_5741_11e8_8218_80e65027a796\" > \n",
       "<thead>    <tr> \n",
       "        <th class=\"blank level0\" ></th> \n",
       "        <th class=\"col_heading level0 col0\" >name</th> \n",
       "        <th class=\"col_heading level0 col1\" >value</th> \n",
       "    </tr></thead> \n",
       "<tbody>    <tr> \n",
       "        <th id=\"T_85f6f236_5741_11e8_8218_80e65027a796level0_row0\" class=\"row_heading level0 row0\" >1</th> \n",
       "        <td id=\"T_85f6f236_5741_11e8_8218_80e65027a796row0_col0\" class=\"data row0 col0\" >Speed limit (30km/h)</td> \n",
       "        <td id=\"T_85f6f236_5741_11e8_8218_80e65027a796row0_col1\" class=\"data row0 col1\" >100.00%</td> \n",
       "    </tr>    <tr> \n",
       "        <th id=\"T_85f6f236_5741_11e8_8218_80e65027a796level0_row1\" class=\"row_heading level0 row1\" >25</th> \n",
       "        <td id=\"T_85f6f236_5741_11e8_8218_80e65027a796row1_col0\" class=\"data row1 col0\" >Road work</td> \n",
       "        <td id=\"T_85f6f236_5741_11e8_8218_80e65027a796row1_col1\" class=\"data row1 col1\" >0.00%</td> \n",
       "    </tr>    <tr> \n",
       "        <th id=\"T_85f6f236_5741_11e8_8218_80e65027a796level0_row2\" class=\"row_heading level0 row2\" >0</th> \n",
       "        <td id=\"T_85f6f236_5741_11e8_8218_80e65027a796row2_col0\" class=\"data row2 col0\" >Speed limit (20km/h)</td> \n",
       "        <td id=\"T_85f6f236_5741_11e8_8218_80e65027a796row2_col1\" class=\"data row2 col1\" >0.00%</td> \n",
       "    </tr>    <tr> \n",
       "        <th id=\"T_85f6f236_5741_11e8_8218_80e65027a796level0_row3\" class=\"row_heading level0 row3\" >8</th> \n",
       "        <td id=\"T_85f6f236_5741_11e8_8218_80e65027a796row3_col0\" class=\"data row3 col0\" >Speed limit (120km/h)</td> \n",
       "        <td id=\"T_85f6f236_5741_11e8_8218_80e65027a796row3_col1\" class=\"data row3 col1\" >0.00%</td> \n",
       "    </tr>    <tr> \n",
       "        <th id=\"T_85f6f236_5741_11e8_8218_80e65027a796level0_row4\" class=\"row_heading level0 row4\" >18</th> \n",
       "        <td id=\"T_85f6f236_5741_11e8_8218_80e65027a796row4_col0\" class=\"data row4 col0\" >General caution</td> \n",
       "        <td id=\"T_85f6f236_5741_11e8_8218_80e65027a796row4_col1\" class=\"data row4 col1\" >0.00%</td> \n",
       "    </tr></tbody> \n",
       "</table> "
      ],
      "text/plain": [
       "<pandas.io.formats.style.Styler at 0x1c4fa00ef0>"
      ]
     },
     "execution_count": 168,
     "metadata": {},
     "output_type": "execute_result"
    }
   ],
   "source": [
    "get_data_frame(3).style.format({'value':\"{:.2%}\"})"
   ]
  },
  {
   "cell_type": "markdown",
   "metadata": {},
   "source": [
    "# Top 5 Probabilities for Road work"
   ]
  },
  {
   "cell_type": "code",
   "execution_count": 170,
   "metadata": {},
   "outputs": [
    {
     "data": {
      "text/html": [
       "<style  type=\"text/css\" >\n",
       "</style>  \n",
       "<table id=\"T_bafdc9a8_5741_11e8_ba32_80e65027a796\" > \n",
       "<thead>    <tr> \n",
       "        <th class=\"blank level0\" ></th> \n",
       "        <th class=\"col_heading level0 col0\" >name</th> \n",
       "        <th class=\"col_heading level0 col1\" >value</th> \n",
       "    </tr></thead> \n",
       "<tbody>    <tr> \n",
       "        <th id=\"T_bafdc9a8_5741_11e8_ba32_80e65027a796level0_row0\" class=\"row_heading level0 row0\" >25</th> \n",
       "        <td id=\"T_bafdc9a8_5741_11e8_ba32_80e65027a796row0_col0\" class=\"data row0 col0\" >Road work</td> \n",
       "        <td id=\"T_bafdc9a8_5741_11e8_ba32_80e65027a796row0_col1\" class=\"data row0 col1\" >99.90%</td> \n",
       "    </tr>    <tr> \n",
       "        <th id=\"T_bafdc9a8_5741_11e8_ba32_80e65027a796level0_row1\" class=\"row_heading level0 row1\" >28</th> \n",
       "        <td id=\"T_bafdc9a8_5741_11e8_ba32_80e65027a796row1_col0\" class=\"data row1 col0\" >Children crossing</td> \n",
       "        <td id=\"T_bafdc9a8_5741_11e8_ba32_80e65027a796row1_col1\" class=\"data row1 col1\" >0.08%</td> \n",
       "    </tr>    <tr> \n",
       "        <th id=\"T_bafdc9a8_5741_11e8_ba32_80e65027a796level0_row2\" class=\"row_heading level0 row2\" >32</th> \n",
       "        <td id=\"T_bafdc9a8_5741_11e8_ba32_80e65027a796row2_col0\" class=\"data row2 col0\" >End of all speed and passing limits</td> \n",
       "        <td id=\"T_bafdc9a8_5741_11e8_ba32_80e65027a796row2_col1\" class=\"data row2 col1\" >0.01%</td> \n",
       "    </tr>    <tr> \n",
       "        <th id=\"T_bafdc9a8_5741_11e8_ba32_80e65027a796level0_row3\" class=\"row_heading level0 row3\" >27</th> \n",
       "        <td id=\"T_bafdc9a8_5741_11e8_ba32_80e65027a796row3_col0\" class=\"data row3 col0\" >Pedestrians</td> \n",
       "        <td id=\"T_bafdc9a8_5741_11e8_ba32_80e65027a796row3_col1\" class=\"data row3 col1\" >0.01%</td> \n",
       "    </tr>    <tr> \n",
       "        <th id=\"T_bafdc9a8_5741_11e8_ba32_80e65027a796level0_row4\" class=\"row_heading level0 row4\" >30</th> \n",
       "        <td id=\"T_bafdc9a8_5741_11e8_ba32_80e65027a796row4_col0\" class=\"data row4 col0\" >Beware of ice/snow</td> \n",
       "        <td id=\"T_bafdc9a8_5741_11e8_ba32_80e65027a796row4_col1\" class=\"data row4 col1\" >0.00%</td> \n",
       "    </tr></tbody> \n",
       "</table> "
      ],
      "text/plain": [
       "<pandas.io.formats.style.Styler at 0x11690c5f8>"
      ]
     },
     "execution_count": 170,
     "metadata": {},
     "output_type": "execute_result"
    }
   ],
   "source": [
    "get_data_frame(4).style.format({'value':\"{:.2%}\"})"
   ]
  },
  {
   "cell_type": "markdown",
   "metadata": {
    "colab_type": "text",
    "id": "T-QvoubnBPK8"
   },
   "source": [
    "### Project Writeup\n",
    "\n",
    "Once you have completed the code implementation, document your results in a project writeup using this [template](https://github.com/udacity/CarND-Traffic-Sign-Classifier-Project/blob/master/writeup_template.md) as a guide. The writeup can be in a markdown or pdf file. "
   ]
  },
  {
   "cell_type": "markdown",
   "metadata": {
    "colab_type": "text",
    "id": "ZWAhHelMBPK8"
   },
   "source": [
    "> **Note**: Once you have completed all of the code implementations and successfully answered each question above, you may finalize your work by exporting the iPython Notebook as an HTML document. You can do this by using the menu above and navigating to  \\n\",\n",
    "    \"**File -> Download as -> HTML (.html)**. Include the finished document along with this notebook as your submission."
   ]
  },
  {
   "cell_type": "markdown",
   "metadata": {
    "colab_type": "text",
    "id": "u-2lytmGBPK9"
   },
   "source": [
    "---\n",
    "\n",
    "## Step 4 (Optional): Visualize the Neural Network's State with Test Images\n",
    "\n",
    " This Section is not required to complete but acts as an additional excersise for understaning the output of a neural network's weights. While neural networks can be a great learning device they are often referred to as a black box. We can understand what the weights of a neural network look like better by plotting their feature maps. After successfully training your neural network you can see what it's feature maps look like by plotting the output of the network's weight layers in response to a test stimuli image. From these plotted feature maps, it's possible to see what characteristics of an image the network finds interesting. For a sign, maybe the inner network feature maps react with high activation to the sign's boundary outline or to the contrast in the sign's painted symbol.\n",
    "\n",
    " Provided for you below is the function code that allows you to get the visualization output of any tensorflow weight layer you want. The inputs to the function should be a stimuli image, one used during training or a new one you provided, and then the tensorflow variable name that represents the layer's state during the training process, for instance if you wanted to see what the [LeNet lab's](https://classroom.udacity.com/nanodegrees/nd013/parts/fbf77062-5703-404e-b60c-95b78b2f3f9e/modules/6df7ae49-c61c-4bb2-a23e-6527e69209ec/lessons/601ae704-1035-4287-8b11-e2c2716217ad/concepts/d4aca031-508f-4e0b-b493-e7b706120f81) feature maps looked like for it's second convolutional layer you could enter conv2 as the tf_activation variable.\n",
    "\n",
    "For an example of what feature map outputs look like, check out NVIDIA's results in their paper [End-to-End Deep Learning for Self-Driving Cars](https://devblogs.nvidia.com/parallelforall/deep-learning-self-driving-cars/) in the section Visualization of internal CNN State. NVIDIA was able to show that their network's inner weights had high activations to road boundary lines by comparing feature maps from an image with a clear path to one without. Try experimenting with a similar test to show that your trained network's weights are looking for interesting features, whether it's looking at differences in feature maps from images with or without a sign, or even what feature maps look like in a trained network vs a completely untrained one on the same sign image.\n",
    "\n",
    "<figure>\n",
    " <img src=\"visualize_cnn.png\" width=\"380\" alt=\"Combined Image\" />\n",
    " <figcaption>\n",
    " <p></p> \n",
    " <p style=\"text-align: center;\"> Your output should look something like this (above)</p> \n",
    " </figcaption>\n",
    "</figure>\n",
    " <p></p> \n"
   ]
  },
  {
   "cell_type": "markdown",
   "metadata": {
    "colab_type": "text",
    "id": "cRlhxn637HBY"
   },
   "source": [
    "# Add a copy of convolutions for testing\n",
    "Not very `DRY` but these layers are currently encapsulated in the the modifed LetNet function. "
   ]
  },
  {
   "cell_type": "code",
   "execution_count": 21,
   "metadata": {
    "colab": {
     "autoexec": {
      "startup": false,
      "wait_interval": 0
     }
    },
    "colab_type": "code",
    "collapsed": true,
    "id": "sDV1kb1T6_Gz"
   },
   "outputs": [],
   "source": [
    "x = tf.map_fn(lambda frame: tf.image.per_image_standardization(frame), x)\n",
    "mu = 0\n",
    "sigma = 0.1\n",
    "\n",
    "\n",
    "conv1_W = tf.Variable(tf.truncated_normal(shape=(3, 3, 3, 32), mean = mu, stddev = sigma))\n",
    "conv1_b = tf.Variable(tf.zeros(32))\n",
    "conv1   = tf.nn.conv2d(x, conv1_W, strides=[1, 1, 1, 1], padding='VALID') + conv1_b\n",
    "conv1 = tf.nn.relu(conv1)\n",
    "conv1 = tf.nn.max_pool(conv1, ksize=[1, 2, 2, 1], strides=[1, 2, 2, 1], padding='VALID')\n",
    "\n",
    "conv2_W = tf.Variable(tf.truncated_normal(shape=(3, 3, 32, 64), mean = mu, stddev = sigma))\n",
    "conv2_b = tf.Variable(tf.zeros(64))\n",
    "conv2   = tf.nn.conv2d(conv1, conv2_W, strides=[1, 1, 1, 1], padding='VALID') + conv2_b\n",
    "conv2 = tf.nn.relu(conv2)\n",
    "conv2 = tf.nn.max_pool(conv2, ksize=[1, 2, 2, 1], strides=[1, 2, 2, 1], padding='VALID')\n",
    "\n",
    "conv3_W = tf.Variable(tf.truncated_normal(shape=(3, 3, 64, 128), mean = mu, stddev = sigma))\n",
    "conv3_b = tf.Variable(tf.zeros(128))\n",
    "conv3   = tf.nn.conv2d(conv2, conv3_W, strides=[1, 1, 1, 1], padding='VALID') + conv3_b\n",
    "conv3 = tf.nn.relu(conv3)\n",
    "conv3 = tf.nn.max_pool(conv3, ksize=[1, 2, 2, 1], strides=[1, 2, 2, 1], padding='VALID')"
   ]
  },
  {
   "cell_type": "markdown",
   "metadata": {
    "colab_type": "text",
    "id": "zXjbCr2a72XW"
   },
   "source": [
    "# Declare feature map function"
   ]
  },
  {
   "cell_type": "code",
   "execution_count": 22,
   "metadata": {
    "colab": {
     "autoexec": {
      "startup": false,
      "wait_interval": 0
     }
    },
    "colab_type": "code",
    "collapsed": true,
    "id": "L9vv4vS-BPK-"
   },
   "outputs": [],
   "source": [
    "### Visualize your network's feature maps here.\n",
    "### Feel free to use as many code cells as needed.\n",
    "\n",
    "# image_input: the test image being fed into the network to produce the feature maps\n",
    "# tf_activation: should be a tf variable name used during your training procedure that represents the calculated state of a specific weight layer\n",
    "# activation_min/max: can be used to view the activation contrast in more detail, by default matplot sets min and max to the actual min and max values of the output\n",
    "# plt_num: used to plot out multiple different weight feature map sets on the same block, just extend the plt number for each new feature map entry\n",
    "\n",
    "def outputFeatureMap(image_input, tf_activation, activation_min=-1, activation_max=-1 ,plt_num=1):\n",
    "    # Here make sure to preprocess your image_input in a way your network expects\n",
    "    # with size, normalization, ect if needed\n",
    "    # image_input =\n",
    "    # Note: x should be the same name as your network's tensorflow data placeholder variable\n",
    "    # If you get an error tf_activation is not defined it may be having trouble accessing the variable from inside a function\n",
    "    with tf.Session() as sess:\n",
    "      sess.run(tf.global_variables_initializer())\n",
    "      activation = tf_activation.eval(session=sess,feed_dict={x : image_input})\n",
    "      featuremaps = activation.shape[3]\n",
    "      plt.figure(plt_num, figsize=(15,15))\n",
    "      for featuremap in range(featuremaps):\n",
    "          if featuremap > 47: break\n",
    "          plt.subplot(6,8, featuremap+1) # sets the number of feature maps to show on each row and column\n",
    "          plt.title('FeatureMap ' + str(featuremap)) # displays the feature map number\n",
    "          if activation_min != -1 & activation_max != -1:\n",
    "              plt.imshow(activation[0,:,:, featuremap], interpolation=\"nearest\", vmin =activation_min, vmax=activation_max, cmap=\"gray\")\n",
    "          elif activation_max != -1:\n",
    "              plt.imshow(activation[0,:,:, featuremap], interpolation=\"nearest\", vmax=activation_max, cmap=\"gray\")\n",
    "          elif activation_min !=-1:\n",
    "              plt.imshow(activation[0,:,:, featuremap], interpolation=\"nearest\", vmin=activation_min, cmap=\"gray\")\n",
    "          else:\n",
    "              plt.imshow(activation[0,:,:, featuremap], interpolation=\"nearest\", cmap=\"gray\")\n",
    "            "
   ]
  },
  {
   "cell_type": "markdown",
   "metadata": {
    "colab_type": "text",
    "id": "IFFUCI-47um9"
   },
   "source": [
    "# Choose image and run."
   ]
  },
  {
   "cell_type": "code",
   "execution_count": 23,
   "metadata": {
    "colab": {
     "autoexec": {
      "startup": false,
      "wait_interval": 0
     },
     "base_uri": "https://localhost:8080/",
     "height": 571
    },
    "colab_type": "code",
    "executionInfo": {
     "elapsed": 3742,
     "status": "ok",
     "timestamp": 1526239501900,
     "user": {
      "displayName": "Thomas Milas",
      "photoUrl": "https://lh3.googleusercontent.com/a/default-user=s128",
      "userId": "109720634882425261277"
     },
     "user_tz": 420
    },
    "id": "1vco3Zbp8GV3",
    "outputId": "11a02c1b-6f6e-43f9-f3d6-7541f655e5e2"
   },
   "outputs": [
    {
     "data": {
      "image/png": "[encoded data removed]",
      "text/plain": [
       "<matplotlib.figure.Figure at 0x1c3710ccf8>"
      ]
     },
     "metadata": {},
     "output_type": "display_data"
    }
   ],
   "source": [
    "img = external_X[0:1, :, :, :]\n",
    "outputFeatureMap(img, conv1)"
   ]
  },
  {
   "cell_type": "code",
   "execution_count": null,
   "metadata": {
    "collapsed": true
   },
   "outputs": [],
   "source": []
  }
 ],
 "metadata": {
  "accelerator": "GPU",
  "colab": {
   "collapsed_sections": [],
   "default_view": {},
   "name": "Traffic_Sign_Classifier.ipynb",
   "provenance": [],
   "version": "0.3.2",
   "views": {}
  },
  "kernelspec": {
   "display_name": "Python 3",
   "language": "python",
   "name": "python3"
  },
  "language_info": {
   "codemirror_mode": {
    "name": "ipython",
    "version": 3
   },
   "file_extension": ".py",
   "mimetype": "text/x-python",
   "name": "python",
   "nbconvert_exporter": "python",
   "pygments_lexer": "ipython3",
   "version": "3.6.4"
  }
 },
 "nbformat": 4,
 "nbformat_minor": 1
}
