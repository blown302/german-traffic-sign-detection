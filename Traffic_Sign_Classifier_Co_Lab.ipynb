{
  "nbformat": 4,
  "nbformat_minor": 0,
  "metadata": {
    "colab": {
      "name": "Traffic_Sign_Classifier.ipynb",
      "version": "0.3.2",
      "views": {},
      "default_view": {},
      "provenance": [],
      "collapsed_sections": []
    },
    "kernelspec": {
      "display_name": "Python 3",
      "language": "python",
      "name": "python3"
    },
    "accelerator": "GPU"
  },
  "cells": [
    {
      "metadata": {
        "id": "5lLPATy0BPJ_",
        "colab_type": "text"
      },
      "cell_type": "markdown",
      "source": [
        "# Self-Driving Car Engineer Nanodegree\n",
        "\n",
        "## Deep Learning\n",
        "\n",
        "## Project: Build a Traffic Sign Recognition Classifier\n",
        "\n",
        "In this notebook, a template is provided for you to implement your functionality in stages, which is required to successfully complete this project. If additional code is required that cannot be included in the notebook, be sure that the Python code is successfully imported and included in your submission if necessary. \n",
        "\n",
        "> **Note**: Once you have completed all of the code implementations, you need to finalize your work by exporting the iPython Notebook as an HTML document. Before exporting the notebook to html, all of the code cells need to have been run so that reviewers can see the final implementation and output. You can then export the notebook by using the menu above and navigating to  \\n\",\n",
        "    \"**File -> Download as -> HTML (.html)**. Include the finished document along with this notebook as your submission. \n",
        "\n",
        "In addition to implementing code, there is a writeup to complete. The writeup should be completed in a separate file, which can be either a markdown file or a pdf document. There is a [write up template](https://github.com/udacity/CarND-Traffic-Sign-Classifier-Project/blob/master/writeup_template.md) that can be used to guide the writing process. Completing the code template and writeup template will cover all of the [rubric points](https://review.udacity.com/#!/rubrics/481/view) for this project.\n",
        "\n",
        "The [rubric](https://review.udacity.com/#!/rubrics/481/view) contains \"Stand Out Suggestions\" for enhancing the project beyond the minimum requirements. The stand out suggestions are optional. If you decide to pursue the \"stand out suggestions\", you can include the code in this Ipython notebook and also discuss the results in the writeup file.\n",
        "\n",
        "\n",
        ">**Note:** Code and Markdown cells can be executed using the **Shift + Enter** keyboard shortcut. In addition, Markdown cells can be edited by typically double-clicking the cell to enter edit mode."
      ]
    },
    {
      "metadata": {
        "id": "ESrdmVaIBq-o",
        "colab_type": "code",
        "colab": {
          "autoexec": {
            "startup": false,
            "wait_interval": 0
          },
          "base_uri": "https://localhost:8080/",
          "height": 187
        },
        "outputId": "c05b8a8f-804a-4112-c651-2cc63d996b42",
        "executionInfo": {
          "status": "ok",
          "timestamp": 1526233167478,
          "user_tz": 420,
          "elapsed": 8402,
          "user": {
            "displayName": "Thomas Milas",
            "photoUrl": "https://lh3.googleusercontent.com/a/default-user=s128",
            "userId": "109720634882425261277"
          }
        }
      },
      "cell_type": "code",
      "source": [
        "!curl -O https://s3-us-west-1.amazonaws.com/udacity-selfdrivingcar/traffic-signs-data.zip\n",
        "!curl -O https://raw.githubusercontent.com/udacity/CarND-Traffic-Sign-Classifier-Project/master/signnames.csv\n",
        "!unzip traffic-signs-data.zip -d data"
      ],
      "execution_count": 2,
      "outputs": [
        {
          "output_type": "stream",
          "text": [
            "  % Total    % Received % Xferd  Average Speed   Time    Time     Time  Current\r\n",
            "                                 Dload  Upload   Total   Spent    Left  Speed\n",
            "100  117M  100  117M    0     0  58.9M      0  0:00:02  0:00:02 --:--:-- 51.6M\n",
            "  % Total    % Received % Xferd  Average Speed   Time    Time     Time  Current\n",
            "                                 Dload  Upload   Total   Spent    Left  Speed\n",
            "100   999  100   999    0     0    999      0  0:00:01 --:--:--  0:00:01  5020\n",
            "Archive:  traffic-signs-data.zip\n",
            "  inflating: data/test.p             \n",
            "  inflating: data/train.p            \n",
            "  inflating: data/valid.p            \n"
          ],
          "name": "stdout"
        }
      ]
    },
    {
      "metadata": {
        "id": "Hp8fTGmZCOgX",
        "colab_type": "code",
        "colab": {
          "autoexec": {
            "startup": false,
            "wait_interval": 0
          },
          "base_uri": "https://localhost:8080/",
          "height": 34
        },
        "outputId": "42484e71-5ad4-4c5c-9761-229aa6f0b9c5",
        "executionInfo": {
          "status": "ok",
          "timestamp": 1526233153467,
          "user_tz": 420,
          "elapsed": 1366,
          "user": {
            "displayName": "Thomas Milas",
            "photoUrl": "https://lh3.googleusercontent.com/a/default-user=s128",
            "userId": "109720634882425261277"
          }
        }
      },
      "cell_type": "code",
      "source": [
        "!ls"
      ],
      "execution_count": 1,
      "outputs": [
        {
          "output_type": "stream",
          "text": [
            "datalab\r\n"
          ],
          "name": "stdout"
        }
      ]
    },
    {
      "metadata": {
        "id": "WmnDdYJbBPKA",
        "colab_type": "text"
      },
      "cell_type": "markdown",
      "source": [
        "---\n",
        "## Step 0: Load The Data"
      ]
    },
    {
      "metadata": {
        "id": "zPt-zlHxBPKB",
        "colab_type": "code",
        "colab": {
          "autoexec": {
            "startup": false,
            "wait_interval": 0
          }
        }
      },
      "cell_type": "code",
      "source": [
        "# Load pickled data\n",
        "import pickle\n",
        "import csv\n",
        "\n",
        "# TODO: Fill this in based on where you saved the training and testing data\n",
        "\n",
        "training_file = 'data/train.p'\n",
        "validation_file= 'data/valid.p'\n",
        "testing_file = 'data/test.p'\n",
        "\n",
        "with open(training_file, mode='rb') as f:\n",
        "    train = pickle.load(f)\n",
        "with open(validation_file, mode='rb') as f:\n",
        "    valid = pickle.load(f)\n",
        "with open(testing_file, mode='rb') as f:\n",
        "    test = pickle.load(f)\n",
        "    \n",
        "with open('signnames.csv', 'r') as f:\n",
        "    sign_names = { int(c['ClassId']): c['SignName'] for c in csv.DictReader(f, delimiter=',')}\n",
        "    \n",
        "X_train, y_train = train['features'], train['labels']\n",
        "X_valid, y_valid = valid['features'], valid['labels']\n",
        "X_test, y_test = test['features'], test['labels']"
      ],
      "execution_count": 0,
      "outputs": []
    },
    {
      "metadata": {
        "id": "AKuWtvnABPKF",
        "colab_type": "text"
      },
      "cell_type": "markdown",
      "source": [
        "---\n",
        "\n",
        "## Step 1: Dataset Summary & Exploration\n",
        "\n",
        "The pickled data is a dictionary with 4 key/value pairs:\n",
        "\n",
        "- `'features'` is a 4D array containing raw pixel data of the traffic sign images, (num examples, width, height, channels).\n",
        "- `'labels'` is a 1D array containing the label/class id of the traffic sign. The file `signnames.csv` contains id -> name mappings for each id.\n",
        "- `'sizes'` is a list containing tuples, (width, height) representing the original width and height the image.\n",
        "- `'coords'` is a list containing tuples, (x1, y1, x2, y2) representing coordinates of a bounding box around the sign in the image. **THESE COORDINATES ASSUME THE ORIGINAL IMAGE. THE PICKLED DATA CONTAINS RESIZED VERSIONS (32 by 32) OF THESE IMAGES**\n",
        "\n",
        "Complete the basic data summary below. Use python, numpy and/or pandas methods to calculate the data summary rather than hard coding the results. For example, the [pandas shape method](http://pandas.pydata.org/pandas-docs/stable/generated/pandas.DataFrame.shape.html) might be useful for calculating some of the summary results. "
      ]
    },
    {
      "metadata": {
        "id": "1gHwGEucBPKG",
        "colab_type": "text"
      },
      "cell_type": "markdown",
      "source": [
        "### Provide a Basic Summary of the Data Set Using Python, Numpy and/or Pandas"
      ]
    },
    {
      "metadata": {
        "id": "QyNRQ17ABPKG",
        "colab_type": "code",
        "colab": {
          "autoexec": {
            "startup": false,
            "wait_interval": 0
          },
          "base_uri": "https://localhost:8080/",
          "height": 102
        },
        "outputId": "16cd9ce8-f62b-47ae-d5fb-7a8959c077c0",
        "executionInfo": {
          "status": "ok",
          "timestamp": 1526234804243,
          "user_tz": 420,
          "elapsed": 308,
          "user": {
            "displayName": "Thomas Milas",
            "photoUrl": "https://lh3.googleusercontent.com/a/default-user=s128",
            "userId": "109720634882425261277"
          }
        }
      },
      "cell_type": "code",
      "source": [
        "### Replace each question mark with the appropriate value. \n",
        "### Use python, pandas or numpy methods rather than hard coding the results\n",
        "import numpy as np\n",
        "\n",
        "n_train = X_train.shape[0]\n",
        "\n",
        "n_validation = X_valid.shape[0]\n",
        "\n",
        "n_test = X_test.shape[0]\n",
        "\n",
        "image_shape = X_train[0].shape\n",
        "\n",
        "n_classes = len(np.unique(y_train))\n",
        "\n",
        "print(\"Number of training examples =\", n_train)\n",
        "print(\"Number of validation examples =\", n_validation)\n",
        "print(\"Number of testing examples =\", n_test)\n",
        "print(\"Image data shape =\", image_shape)\n",
        "print(\"Number of classes =\", n_classes)"
      ],
      "execution_count": 46,
      "outputs": [
        {
          "output_type": "stream",
          "text": [
            "Number of training examples = 34799\n",
            "Number of validation examples = 4410\n",
            "Number of testing examples = 12630\n",
            "Image data shape = (32, 32, 3)\n",
            "Number of classes = 43\n"
          ],
          "name": "stdout"
        }
      ]
    },
    {
      "metadata": {
        "id": "DTv-S6ncBPKM",
        "colab_type": "text"
      },
      "cell_type": "markdown",
      "source": [
        "### Include an exploratory visualization of the dataset"
      ]
    },
    {
      "metadata": {
        "id": "-YVbBmEjBPKM",
        "colab_type": "text"
      },
      "cell_type": "markdown",
      "source": [
        "Visualize the German Traffic Signs Dataset using the pickled file(s). This is open ended, suggestions include: plotting traffic sign images, plotting the count of each sign, etc. \n",
        "\n",
        "The [Matplotlib](http://matplotlib.org/) [examples](http://matplotlib.org/examples/index.html) and [gallery](http://matplotlib.org/gallery.html) pages are a great resource for doing visualizations in Python.\n",
        "\n",
        "**NOTE:** It's recommended you start with something simple first. If you wish to do more, come back to it after you've completed the rest of the sections. It can be interesting to look at the distribution of classes in the training, validation and test set. Is the distribution the same? Are there more examples of some classes than others?"
      ]
    },
    {
      "metadata": {
        "id": "b-yrzmMbBPKN",
        "colab_type": "code",
        "colab": {
          "autoexec": {
            "startup": false,
            "wait_interval": 0
          },
          "base_uri": "https://localhost:8080/",
          "height": 122
        },
        "outputId": "2b2ec75e-0355-46aa-ae42-f3800ea46a52",
        "executionInfo": {
          "status": "ok",
          "timestamp": 1526234808140,
          "user_tz": 420,
          "elapsed": 396,
          "user": {
            "displayName": "Thomas Milas",
            "photoUrl": "https://lh3.googleusercontent.com/a/default-user=s128",
            "userId": "109720634882425261277"
          }
        }
      },
      "cell_type": "code",
      "source": [
        "import random\n",
        "import numpy as np\n",
        "import matplotlib.pyplot as plt\n",
        "%matplotlib inline\n",
        " \n",
        "\n",
        "index = random.randint(0, len(X_train))\n",
        "image = X_train[index].squeeze()\n",
        "\n",
        "plt.figure(figsize=(1,1))\n",
        "plt.imshow(image)\n",
        "print(sign_names[y_train[index]])"
      ],
      "execution_count": 47,
      "outputs": [
        {
          "output_type": "stream",
          "text": [
            "Speed limit (30km/h)\n"
          ],
          "name": "stdout"
        },
        {
          "output_type": "display_data",
          "data": {
            "image/png": "[encoded data removed]",
            "text/plain": [
              "<matplotlib.figure.Figure at 0x7f0c3ea27f98>"
            ]
          },
          "metadata": {
            "tags": []
          }
        }
      ]
    },
    {
      "metadata": {
        "id": "oEpmb1_1BPKQ",
        "colab_type": "text"
      },
      "cell_type": "markdown",
      "source": [
        "----\n",
        "\n",
        "## Step 2: Design and Test a Model Architecture\n",
        "\n",
        "Design and implement a deep learning model that learns to recognize traffic signs. Train and test your model on the [German Traffic Sign Dataset](http://benchmark.ini.rub.de/?section=gtsrb&subsection=dataset).\n",
        "\n",
        "The LeNet-5 implementation shown in the [classroom](https://classroom.udacity.com/nanodegrees/nd013/parts/fbf77062-5703-404e-b60c-95b78b2f3f9e/modules/6df7ae49-c61c-4bb2-a23e-6527e69209ec/lessons/601ae704-1035-4287-8b11-e2c2716217ad/concepts/d4aca031-508f-4e0b-b493-e7b706120f81) at the end of the CNN lesson is a solid starting point. You'll have to change the number of classes and possibly the preprocessing, but aside from that it's plug and play! \n",
        "\n",
        "With the LeNet-5 solution from the lecture, you should expect a validation set accuracy of about 0.89. To meet specifications, the validation set accuracy will need to be at least 0.93. It is possible to get an even higher accuracy, but 0.93 is the minimum for a successful project submission. \n",
        "\n",
        "There are various aspects to consider when thinking about this problem:\n",
        "\n",
        "- Neural network architecture (is the network over or underfitting?)\n",
        "- Play around preprocessing techniques (normalization, rgb to grayscale, etc)\n",
        "- Number of examples per label (some have more than others).\n",
        "- Generate fake data.\n",
        "\n",
        "Here is an example of a [published baseline model on this problem](http://yann.lecun.com/exdb/publis/pdf/sermanet-ijcnn-11.pdf). It's not required to be familiar with the approach used in the paper but, it's good practice to try to read papers like these."
      ]
    },
    {
      "metadata": {
        "id": "JGI0gNUiBPKQ",
        "colab_type": "text"
      },
      "cell_type": "markdown",
      "source": [
        "### Pre-process the Data Set (normalization, grayscale, etc.)"
      ]
    },
    {
      "metadata": {
        "id": "MBvdlG39BPKR",
        "colab_type": "text"
      },
      "cell_type": "markdown",
      "source": [
        "Minimally, the image data should be normalized so that the data has mean zero and equal variance. For image data, `(pixel - 128)/ 128` is a quick way to approximately normalize the data and can be used in this project. \n",
        "\n",
        "Other pre-processing steps are optional. You can try different techniques to see if it improves performance. \n",
        "\n",
        "Use the code cell (or multiple code cells, if necessary) to implement the first step of your project."
      ]
    },
    {
      "metadata": {
        "id": "FWEKHN2zBPKS",
        "colab_type": "code",
        "colab": {
          "autoexec": {
            "startup": false,
            "wait_interval": 0
          }
        }
      },
      "cell_type": "code",
      "source": [
        "### Preprocess the data here. It is required to normalize the data. Other preprocessing steps could include \n",
        "### converting to grayscale, etc.\n",
        "### Feel free to use as many code cells as needed."
      ],
      "execution_count": 0,
      "outputs": []
    },
    {
      "metadata": {
        "id": "sB7c7SgcBPKW",
        "colab_type": "text"
      },
      "cell_type": "markdown",
      "source": [
        "### Model Architecture"
      ]
    },
    {
      "metadata": {
        "id": "14YJOK-0BPKX",
        "colab_type": "code",
        "colab": {
          "autoexec": {
            "startup": false,
            "wait_interval": 0
          }
        }
      },
      "cell_type": "code",
      "source": [
        "### Define your architecture here.\n",
        "### Feel free to use as many code cells as needed.\n",
        "from tensorflow.contrib.layers import flatten\n",
        "import tensorflow as tf\n",
        "\n",
        "def LeNet(x, keep_prob, keep_prob_conv):\n",
        "    x = tf.map_fn(lambda frame: tf.image.per_image_standardization(frame), x)\n",
        "    mu = 0\n",
        "    sigma = 0.1\n",
        "    \n",
        "    conv1_W = tf.Variable(tf.truncated_normal(shape=(3, 3, 3, 32), mean = mu, stddev = sigma))\n",
        "    conv1_b = tf.Variable(tf.zeros(32))\n",
        "    conv1   = tf.nn.conv2d(x, conv1_W, strides=[1, 1, 1, 1], padding='VALID') + conv1_b\n",
        "    conv1 = tf.nn.relu(conv1)\n",
        "    conv1 = tf.nn.max_pool(conv1, ksize=[1, 2, 2, 1], strides=[1, 2, 2, 1], padding='VALID')\n",
        "    \n",
        "    conv2_W = tf.Variable(tf.truncated_normal(shape=(3, 3, 32, 64), mean = mu, stddev = sigma))\n",
        "    conv2_b = tf.Variable(tf.zeros(64))\n",
        "    conv2   = tf.nn.conv2d(conv1, conv2_W, strides=[1, 1, 1, 1], padding='VALID') + conv2_b\n",
        "    conv2 = tf.nn.relu(conv2)\n",
        "    conv2 = tf.nn.max_pool(conv2, ksize=[1, 2, 2, 1], strides=[1, 2, 2, 1], padding='VALID')\n",
        "    \n",
        "    conv3_W = tf.Variable(tf.truncated_normal(shape=(3, 3, 64, 128), mean = mu, stddev = sigma))\n",
        "    conv3_b = tf.Variable(tf.zeros(128))\n",
        "    conv3   = tf.nn.conv2d(conv2, conv3_W, strides=[1, 1, 1, 1], padding='VALID') + conv3_b\n",
        "    conv3 = tf.nn.relu(conv3)\n",
        "    conv3 = tf.nn.max_pool(conv3, ksize=[1, 2, 2, 1], strides=[1, 2, 2, 1], padding='VALID')\n",
        "\n",
        "    fc0   = flatten(conv3)\n",
        "    \n",
        "    fc1_W = tf.Variable(tf.truncated_normal(shape=(512, 120), mean = mu, stddev = sigma))\n",
        "    fc1_b = tf.Variable(tf.zeros(120))\n",
        "    fc1   = tf.matmul(fc0, fc1_W) + fc1_b\n",
        "    fc1    = tf.nn.relu(fc1)\n",
        "\n",
        "    fc2_W  = tf.Variable(tf.truncated_normal(shape=(120, 84), mean = mu, stddev = sigma))\n",
        "    fc2_b  = tf.Variable(tf.zeros(84))\n",
        "    fc2    = tf.matmul(fc1, fc2_W) + fc2_b\n",
        "    \n",
        "    fc2    = tf.nn.relu(fc2)\n",
        "\n",
        "    fc3_W  = tf.Variable(tf.truncated_normal(shape=(84, 43), mean = mu, stddev = sigma))\n",
        "    fc3_b  = tf.Variable(tf.zeros(43))\n",
        "    \n",
        "    logits = tf.matmul(fc2, fc3_W) + fc3_b\n",
        "    logits = tf.nn.dropout(logits, keep_prob)\n",
        "    \n",
        "    return logits"
      ],
      "execution_count": 0,
      "outputs": []
    },
    {
      "metadata": {
        "id": "sQGaGEwsBPKb",
        "colab_type": "text"
      },
      "cell_type": "markdown",
      "source": [
        "### Train, Validate and Test the Model"
      ]
    },
    {
      "metadata": {
        "id": "gZvnZaOVBPKc",
        "colab_type": "text"
      },
      "cell_type": "markdown",
      "source": [
        "A validation set can be used to assess how well the model is performing. A low accuracy on the training and validation\n",
        "sets imply underfitting. A high accuracy on the training set but low accuracy on the validation set implies overfitting."
      ]
    },
    {
      "metadata": {
        "id": "pPKqdlkABPKf",
        "colab_type": "code",
        "colab": {
          "autoexec": {
            "startup": false,
            "wait_interval": 0
          }
        }
      },
      "cell_type": "code",
      "source": [
        "EPOCHS = 20\n",
        "BATCH_SIZE = 128"
      ],
      "execution_count": 0,
      "outputs": []
    },
    {
      "metadata": {
        "id": "jaYgZgFNBPKi",
        "colab_type": "code",
        "colab": {
          "autoexec": {
            "startup": false,
            "wait_interval": 0
          }
        }
      },
      "cell_type": "code",
      "source": [
        "from sklearn.utils import shuffle\n",
        "\n",
        "### Train your model here.\n",
        "x = tf.placeholder(tf.float32, (None, 32, 32, 3))\n",
        "y = tf.placeholder(tf.int32, (None))\n",
        "one_hot_y = tf.one_hot(y, 43)\n",
        "\n",
        "\n",
        "### Calculate and report the accuracy on the training and validation set.\n",
        "### Once a final model architecture is selected, \n",
        "### the accuracy on the test set should be calculated and reported as well.\n",
        "### Feel free to use as many code cells as needed."
      ],
      "execution_count": 0,
      "outputs": []
    },
    {
      "metadata": {
        "id": "miuBQ7GgBPKk",
        "colab_type": "code",
        "colab": {
          "autoexec": {
            "startup": false,
            "wait_interval": 0
          }
        }
      },
      "cell_type": "code",
      "source": [
        "rate = 0.001\n",
        "keep_prob = tf.placeholder(tf.float32)\n",
        "keep_prob_conv = tf.placeholder(tf.float32)\n",
        "\n",
        "logits = LeNet(x, keep_prob, keep_prob_conv)\n",
        "cross_entropy = tf.nn.softmax_cross_entropy_with_logits(labels=one_hot_y, logits=logits)\n",
        "loss_operation = tf.reduce_mean(cross_entropy)\n",
        "optimizer = tf.train.AdamOptimizer(learning_rate = rate)\n",
        "training_operation = optimizer.minimize(loss_operation)"
      ],
      "execution_count": 0,
      "outputs": []
    },
    {
      "metadata": {
        "id": "e9frxHoDC_Rr",
        "colab_type": "code",
        "colab": {
          "autoexec": {
            "startup": false,
            "wait_interval": 0
          }
        }
      },
      "cell_type": "code",
      "source": [
        "correct_prediction = tf.equal(tf.argmax(logits, 1), tf.argmax(one_hot_y, 1))\n",
        "accuracy_operation = tf.reduce_mean(tf.cast(correct_prediction, tf.float32))\n",
        "saver = tf.train.Saver()\n",
        "\n",
        "def evaluate(X_data, y_data):\n",
        "    num_examples = len(X_data)\n",
        "    total_accuracy = 0\n",
        "    sess = tf.get_default_session()\n",
        "    for offset in range(0, num_examples, BATCH_SIZE):\n",
        "        batch_x, batch_y = X_data[offset:offset+BATCH_SIZE], y_data[offset:offset+BATCH_SIZE]\n",
        "        accuracy = sess.run(accuracy_operation, feed_dict={x: batch_x, y: batch_y, keep_prob: 1., keep_prob_conv: 1.})\n",
        "        total_accuracy += (accuracy * len(batch_x))\n",
        "    return total_accuracy / num_examples"
      ],
      "execution_count": 0,
      "outputs": []
    },
    {
      "metadata": {
        "id": "0I0VGR3FBPKo",
        "colab_type": "code",
        "colab": {
          "autoexec": {
            "startup": false,
            "wait_interval": 0
          },
          "base_uri": "https://localhost:8080/",
          "height": 1428
        },
        "outputId": "1fa10969-9494-4b0c-b5a6-a28a7d5bf168",
        "executionInfo": {
          "status": "ok",
          "timestamp": 1526235062441,
          "user_tz": 420,
          "elapsed": 234623,
          "user": {
            "displayName": "Thomas Milas",
            "photoUrl": "https://lh3.googleusercontent.com/a/default-user=s128",
            "userId": "109720634882425261277"
          }
        }
      },
      "cell_type": "code",
      "source": [
        "with tf.Session() as sess:\n",
        "    sess.run(tf.global_variables_initializer())\n",
        "    num_examples = len(X_train)\n",
        "    print(\"Training...\")\n",
        "    print(keep_prob)\n",
        "    for i in range(EPOCHS):\n",
        "        X_train, y_train = shuffle(X_train, y_train)\n",
        "        for offset in range(0, num_examples, BATCH_SIZE):\n",
        "            end = offset + BATCH_SIZE\n",
        "            batch_x, batch_y = X_train[offset:end], y_train[offset:end]\n",
        "            sess.run(training_operation, feed_dict={x: batch_x, y: batch_y, keep_prob: .5, keep_prob_conv: .3})\n",
        "            \n",
        "        traiing_accuracy = evaluate(batch_x, batch_y)\n",
        "        validation_accuracy = evaluate(X_valid, y_valid)\n",
        "        print(\"EPOCH {} ...\".format(i+1))\n",
        "        print(\"Training Accuracy = {:.1%}\".format(traiing_accuracy))\n",
        "        print(\"Validation Accuracy = {:.1%}\".format(validation_accuracy))\n",
        "        print()\n",
        "        \n",
        "    saver.save(sess, './traffic_sign')\n",
        "    print(\"Model saved\")"
      ],
      "execution_count": 53,
      "outputs": [
        {
          "output_type": "stream",
          "text": [
            "Training...\n",
            "Tensor(\"Placeholder_6:0\", dtype=float32)\n",
            "EPOCH 1 ...\n",
            "Training Accuracy = 91.9%\n",
            "Validation Accuracy = 79.2%\n",
            "\n",
            "EPOCH 2 ...\n",
            "Training Accuracy = 98.2%\n",
            "Validation Accuracy = 88.8%\n",
            "\n",
            "EPOCH 3 ...\n",
            "Training Accuracy = 99.1%\n",
            "Validation Accuracy = 91.1%\n",
            "\n",
            "EPOCH 4 ...\n",
            "Training Accuracy = 98.2%\n",
            "Validation Accuracy = 92.1%\n",
            "\n",
            "EPOCH 5 ...\n",
            "Training Accuracy = 100.0%\n",
            "Validation Accuracy = 93.9%\n",
            "\n",
            "EPOCH 6 ...\n",
            "Training Accuracy = 100.0%\n",
            "Validation Accuracy = 92.7%\n",
            "\n",
            "EPOCH 7 ...\n",
            "Training Accuracy = 98.2%\n",
            "Validation Accuracy = 94.6%\n",
            "\n",
            "EPOCH 8 ...\n",
            "Training Accuracy = 100.0%\n",
            "Validation Accuracy = 94.0%\n",
            "\n",
            "EPOCH 9 ...\n",
            "Training Accuracy = 100.0%\n",
            "Validation Accuracy = 94.5%\n",
            "\n",
            "EPOCH 10 ...\n",
            "Training Accuracy = 100.0%\n",
            "Validation Accuracy = 94.3%\n",
            "\n",
            "EPOCH 11 ...\n",
            "Training Accuracy = 100.0%\n",
            "Validation Accuracy = 93.6%\n",
            "\n",
            "EPOCH 12 ...\n",
            "Training Accuracy = 100.0%\n",
            "Validation Accuracy = 93.3%\n",
            "\n",
            "EPOCH 13 ...\n",
            "Training Accuracy = 100.0%\n",
            "Validation Accuracy = 95.2%\n",
            "\n",
            "EPOCH 14 ...\n",
            "Training Accuracy = 100.0%\n",
            "Validation Accuracy = 95.9%\n",
            "\n",
            "EPOCH 15 ...\n",
            "Training Accuracy = 100.0%\n",
            "Validation Accuracy = 95.7%\n",
            "\n",
            "EPOCH 16 ...\n",
            "Training Accuracy = 100.0%\n",
            "Validation Accuracy = 96.1%\n",
            "\n",
            "EPOCH 17 ...\n",
            "Training Accuracy = 100.0%\n",
            "Validation Accuracy = 95.6%\n",
            "\n",
            "EPOCH 18 ...\n",
            "Training Accuracy = 100.0%\n",
            "Validation Accuracy = 95.6%\n",
            "\n",
            "EPOCH 19 ...\n",
            "Training Accuracy = 100.0%\n",
            "Validation Accuracy = 94.4%\n",
            "\n",
            "EPOCH 20 ...\n",
            "Training Accuracy = 100.0%\n",
            "Validation Accuracy = 95.4%\n",
            "\n",
            "Model saved\n"
          ],
          "name": "stdout"
        }
      ]
    },
    {
      "metadata": {
        "id": "tSSu0aAa8cQF",
        "colab_type": "text"
      },
      "cell_type": "markdown",
      "source": [
        "# Run Test Set!"
      ]
    },
    {
      "metadata": {
        "id": "IfG31mUo8a40",
        "colab_type": "code",
        "colab": {
          "autoexec": {
            "startup": false,
            "wait_interval": 0
          },
          "base_uri": "https://localhost:8080/",
          "height": 51
        },
        "outputId": "1d0781de-cc3e-4b88-f546-51c8b9890578",
        "executionInfo": {
          "status": "ok",
          "timestamp": 1526235065873,
          "user_tz": 420,
          "elapsed": 3379,
          "user": {
            "displayName": "Thomas Milas",
            "photoUrl": "https://lh3.googleusercontent.com/a/default-user=s128",
            "userId": "109720634882425261277"
          }
        }
      },
      "cell_type": "code",
      "source": [
        "with tf.Session() as sess:\n",
        "    saver.restore(sess, tf.train.latest_checkpoint('.'))\n",
        "\n",
        "    test_accuracy = evaluate(X_test, y_test)\n",
        "    print(\"Test Accuracy = {:.1%}\".format(test_accuracy))"
      ],
      "execution_count": 54,
      "outputs": [
        {
          "output_type": "stream",
          "text": [
            "INFO:tensorflow:Restoring parameters from ./traffic_sign\n",
            "Test Accuracy = 94.2%\n"
          ],
          "name": "stdout"
        }
      ]
    },
    {
      "metadata": {
        "id": "swPbD6bUBPKs",
        "colab_type": "text"
      },
      "cell_type": "markdown",
      "source": [
        "---\n",
        "\n",
        "## Step 3: Test a Model on New Images\n",
        "\n",
        "To give yourself more insight into how your model is working, download at least five pictures of German traffic signs from the web and use your model to predict the traffic sign type.\n",
        "\n",
        "You may find `signnames.csv` useful as it contains mappings from the class id (integer) to the actual sign name."
      ]
    },
    {
      "metadata": {
        "id": "2ocrqWHiBPKt",
        "colab_type": "text"
      },
      "cell_type": "markdown",
      "source": [
        "### Load and Output the Images"
      ]
    },
    {
      "metadata": {
        "id": "SYPOUEI2BPKu",
        "colab_type": "code",
        "colab": {
          "autoexec": {
            "startup": false,
            "wait_interval": 0
          },
          "base_uri": "https://localhost:8080/",
          "height": 272
        },
        "outputId": "a0096375-c42b-4d33-b439-dad6778842a8",
        "executionInfo": {
          "status": "ok",
          "timestamp": 1526235224939,
          "user_tz": 420,
          "elapsed": 7139,
          "user": {
            "displayName": "Thomas Milas",
            "photoUrl": "https://lh3.googleusercontent.com/a/default-user=s128",
            "userId": "109720634882425261277"
          }
        }
      },
      "cell_type": "code",
      "source": [
        "### Load the images and plot them here.\n",
        "### Feel free to use as many code cells as needed.\n",
        "!curl -O https://raw.githubusercontent.com/blown302/german-traffic-sign-detection/master/construction.png\n",
        "!curl -O https://raw.githubusercontent.com/blown302/german-traffic-sign-detection/master/yield.jpg\n",
        "!curl -O https://raw.githubusercontent.com/blown302/german-traffic-sign-detection/master/right_of_way_next_intersection.jpg\n",
        "!curl -O https://raw.githubusercontent.com/blown302/german-traffic-sign-detection/master/speed_30.jpg  \n",
        "!curl -O https://raw.githubusercontent.com/blown302/german-traffic-sign-detection/master/left_arrow.jpg  "
      ],
      "execution_count": 55,
      "outputs": [
        {
          "output_type": "stream",
          "text": [
            "  % Total    % Received % Xferd  Average Speed   Time    Time     Time  Current\r\n",
            "                                 Dload  Upload   Total   Spent    Left  Speed\n",
            "100  4972  100  4972    0     0   4972      0  0:00:01 --:--:--  0:00:01 25238\n",
            "  % Total    % Received % Xferd  Average Speed   Time    Time     Time  Current\n",
            "                                 Dload  Upload   Total   Spent    Left  Speed\n",
            "100  1480  100  1480    0     0   1480      0  0:00:01 --:--:--  0:00:01 10571\n",
            "  % Total    % Received % Xferd  Average Speed   Time    Time     Time  Current\n",
            "                                 Dload  Upload   Total   Spent    Left  Speed\n",
            "100  1434  100  1434    0     0   1434      0  0:00:01 --:--:--  0:00:01 10316\n",
            "  % Total    % Received % Xferd  Average Speed   Time    Time     Time  Current\n",
            "                                 Dload  Upload   Total   Spent    Left  Speed\n",
            "100  1609  100  1609    0     0   1609      0  0:00:01 --:--:--  0:00:01 11830\n",
            "  % Total    % Received % Xferd  Average Speed   Time    Time     Time  Current\n",
            "                                 Dload  Upload   Total   Spent    Left  Speed\n",
            "100  1510  100  1510    0     0   1510      0  0:00:01 --:--:--  0:00:01 11268\n"
          ],
          "name": "stdout"
        }
      ]
    },
    {
      "metadata": {
        "id": "78xInvnGYn9Z",
        "colab_type": "text"
      },
      "cell_type": "markdown",
      "source": [
        "# Left Arrow Image"
      ]
    },
    {
      "metadata": {
        "id": "AwmTmEudvgel",
        "colab_type": "code",
        "colab": {
          "autoexec": {
            "startup": false,
            "wait_interval": 0
          },
          "base_uri": "https://localhost:8080/",
          "height": 300
        },
        "outputId": "7bb12dab-7b96-492b-9b10-a6f2d21a14da",
        "executionInfo": {
          "status": "ok",
          "timestamp": 1526235233126,
          "user_tz": 420,
          "elapsed": 463,
          "user": {
            "displayName": "Thomas Milas",
            "photoUrl": "https://lh3.googleusercontent.com/a/default-user=s128",
            "userId": "109720634882425261277"
          }
        }
      },
      "cell_type": "code",
      "source": [
        "import numpy as np\n",
        "import matplotlib.pyplot as plt\n",
        "import cv2\n",
        "%matplotlib inline\n",
        "\n",
        "left_arrow_img = plt.imread('left_arrow.jpg')\n",
        "left_arrow_img = left_arrow_img[:, 2:34, :]\n",
        "print(left_arrow_img.shape)\n",
        "plt.imshow(left_arrow_img)"
      ],
      "execution_count": 56,
      "outputs": [
        {
          "output_type": "stream",
          "text": [
            "(32, 32, 3)\n"
          ],
          "name": "stdout"
        },
        {
          "output_type": "execute_result",
          "data": {
            "text/plain": [
              "<matplotlib.image.AxesImage at 0x7f0bf76044a8>"
            ]
          },
          "metadata": {
            "tags": []
          },
          "execution_count": 56
        },
        {
          "output_type": "display_data",
          "data": {
            "image/png": "[encoded data removed]",
            "text/plain": [
              "<matplotlib.figure.Figure at 0x7f0baf19deb8>"
            ]
          },
          "metadata": {
            "tags": []
          }
        }
      ]
    },
    {
      "metadata": {
        "id": "Cgut6ZjUv1ZC",
        "colab_type": "text"
      },
      "cell_type": "markdown",
      "source": [
        "# Yeild Sign"
      ]
    },
    {
      "metadata": {
        "id": "RyU55kfuDSxm",
        "colab_type": "code",
        "colab": {
          "autoexec": {
            "startup": false,
            "wait_interval": 0
          },
          "base_uri": "https://localhost:8080/",
          "height": 300
        },
        "outputId": "b262574c-8202-4692-89ab-bc07cc563857",
        "executionInfo": {
          "status": "ok",
          "timestamp": 1526235235894,
          "user_tz": 420,
          "elapsed": 494,
          "user": {
            "displayName": "Thomas Milas",
            "photoUrl": "https://lh3.googleusercontent.com/a/default-user=s128",
            "userId": "109720634882425261277"
          }
        }
      },
      "cell_type": "code",
      "source": [
        "yeild = plt.imread('yield.jpg')\n",
        "yeild = yeild[:, 1:33, :]\n",
        "print(yeild.shape)\n",
        "plt.imshow(yeild)"
      ],
      "execution_count": 57,
      "outputs": [
        {
          "output_type": "stream",
          "text": [
            "(32, 32, 3)\n"
          ],
          "name": "stdout"
        },
        {
          "output_type": "execute_result",
          "data": {
            "text/plain": [
              "<matplotlib.image.AxesImage at 0x7f0bf7428128>"
            ]
          },
          "metadata": {
            "tags": []
          },
          "execution_count": 57
        },
        {
          "output_type": "display_data",
          "data": {
            "image/png": "[encoded data removed]",
            "text/plain": [
              "<matplotlib.figure.Figure at 0x7f0bb9120208>"
            ]
          },
          "metadata": {
            "tags": []
          }
        }
      ]
    },
    {
      "metadata": {
        "id": "tdEelck5v_FH",
        "colab_type": "text"
      },
      "cell_type": "markdown",
      "source": [
        "# Right of Way Next Intersection"
      ]
    },
    {
      "metadata": {
        "id": "xh5n9kjfv6C4",
        "colab_type": "code",
        "colab": {
          "autoexec": {
            "startup": false,
            "wait_interval": 0
          },
          "base_uri": "https://localhost:8080/",
          "height": 300
        },
        "outputId": "1c938011-ef09-44b6-e565-74aa013a2c6b",
        "executionInfo": {
          "status": "ok",
          "timestamp": 1526235238790,
          "user_tz": 420,
          "elapsed": 450,
          "user": {
            "displayName": "Thomas Milas",
            "photoUrl": "https://lh3.googleusercontent.com/a/default-user=s128",
            "userId": "109720634882425261277"
          }
        }
      },
      "cell_type": "code",
      "source": [
        "right_of_way_next_intersection = plt.imread('right_of_way_next_intersection.jpg')\n",
        "right_of_way_next_intersection = right_of_way_next_intersection[:, 3:35, :]\n",
        "print(right_of_way_next_intersection.shape)\n",
        "plt.imshow(right_of_way_next_intersection)"
      ],
      "execution_count": 58,
      "outputs": [
        {
          "output_type": "stream",
          "text": [
            "(32, 32, 3)\n"
          ],
          "name": "stdout"
        },
        {
          "output_type": "execute_result",
          "data": {
            "text/plain": [
              "<matplotlib.image.AxesImage at 0x7f0bf75d2080>"
            ]
          },
          "metadata": {
            "tags": []
          },
          "execution_count": 58
        },
        {
          "output_type": "display_data",
          "data": {
            "image/png": "[encoded data removed]",
            "text/plain": [
              "<matplotlib.figure.Figure at 0x7f0ba769d2b0>"
            ]
          },
          "metadata": {
            "tags": []
          }
        }
      ]
    },
    {
      "metadata": {
        "id": "7pAwsDsRwHVp",
        "colab_type": "text"
      },
      "cell_type": "markdown",
      "source": [
        "# Speed 30"
      ]
    },
    {
      "metadata": {
        "id": "XrngfXYrwK22",
        "colab_type": "code",
        "colab": {
          "autoexec": {
            "startup": false,
            "wait_interval": 0
          },
          "base_uri": "https://localhost:8080/",
          "height": 300
        },
        "outputId": "ac12945b-9818-4da6-e744-ee2f82f35cbb",
        "executionInfo": {
          "status": "ok",
          "timestamp": 1526235241201,
          "user_tz": 420,
          "elapsed": 490,
          "user": {
            "displayName": "Thomas Milas",
            "photoUrl": "https://lh3.googleusercontent.com/a/default-user=s128",
            "userId": "109720634882425261277"
          }
        }
      },
      "cell_type": "code",
      "source": [
        "speed_30 = plt.imread('speed_30.jpg')\n",
        "speed_30 = speed_30[:, 1:33, :]\n",
        "print(speed_30.shape)\n",
        "plt.imshow(speed_30)"
      ],
      "execution_count": 59,
      "outputs": [
        {
          "output_type": "stream",
          "text": [
            "(32, 32, 3)\n"
          ],
          "name": "stdout"
        },
        {
          "output_type": "execute_result",
          "data": {
            "text/plain": [
              "<matplotlib.image.AxesImage at 0x7f0bf752af28>"
            ]
          },
          "metadata": {
            "tags": []
          },
          "execution_count": 59
        },
        {
          "output_type": "display_data",
          "data": {
            "image/png": "[encoded data removed]",
            "text/plain": [
              "<matplotlib.figure.Figure at 0x7f0bf75ad710>"
            ]
          },
          "metadata": {
            "tags": []
          }
        }
      ]
    },
    {
      "metadata": {
        "id": "_bnHYaU4wO23",
        "colab_type": "text"
      },
      "cell_type": "markdown",
      "source": [
        "# Construction Zone"
      ]
    },
    {
      "metadata": {
        "id": "aZzzFS3IwTbT",
        "colab_type": "code",
        "colab": {
          "autoexec": {
            "startup": false,
            "wait_interval": 0
          },
          "base_uri": "https://localhost:8080/",
          "height": 300
        },
        "outputId": "6285059e-f9d1-4607-a592-d1f755397a85",
        "executionInfo": {
          "status": "ok",
          "timestamp": 1526235243625,
          "user_tz": 420,
          "elapsed": 443,
          "user": {
            "displayName": "Thomas Milas",
            "photoUrl": "https://lh3.googleusercontent.com/a/default-user=s128",
            "userId": "109720634882425261277"
          }
        }
      },
      "cell_type": "code",
      "source": [
        "construction = plt.imread('construction.png')\n",
        "construction = cv2.cvtColor(construction, cv2.COLOR_RGBA2RGB)\n",
        "construction = construction[:, 2:34, :]\n",
        "print(construction.shape)\n",
        "plt.imshow(construction)"
      ],
      "execution_count": 60,
      "outputs": [
        {
          "output_type": "stream",
          "text": [
            "(32, 32, 3)\n"
          ],
          "name": "stdout"
        },
        {
          "output_type": "execute_result",
          "data": {
            "text/plain": [
              "<matplotlib.image.AxesImage at 0x7f0bf750bfd0>"
            ]
          },
          "metadata": {
            "tags": []
          },
          "execution_count": 60
        },
        {
          "output_type": "display_data",
          "data": {
            "image/png": "[encoded data removed]",
            "text/plain": [
              "<matplotlib.figure.Figure at 0x7f0bf7559358>"
            ]
          },
          "metadata": {
            "tags": []
          }
        }
      ]
    },
    {
      "metadata": {
        "id": "0qPYQIS0BPKw",
        "colab_type": "text"
      },
      "cell_type": "markdown",
      "source": [
        "### Predict the Sign Type for Each Image"
      ]
    },
    {
      "metadata": {
        "id": "-oqoHSZJD8wO",
        "colab_type": "code",
        "colab": {
          "autoexec": {
            "startup": false,
            "wait_interval": 0
          }
        }
      },
      "cell_type": "code",
      "source": [
        "external_X = np.array([left_arrow_img, yeild, right_of_way_next_intersection, speed_30, construction])\n",
        "external_y = np.array([34, 13, 11, 1, 25])"
      ],
      "execution_count": 0,
      "outputs": []
    },
    {
      "metadata": {
        "id": "-d2piQX2BPKx",
        "colab_type": "code",
        "colab": {
          "autoexec": {
            "startup": false,
            "wait_interval": 0
          },
          "base_uri": "https://localhost:8080/",
          "height": 68
        },
        "outputId": "0cb24e0d-8bd2-41d9-b9b5-f72aae386a8d",
        "executionInfo": {
          "status": "ok",
          "timestamp": 1526235654533,
          "user_tz": 420,
          "elapsed": 475,
          "user": {
            "displayName": "Thomas Milas",
            "photoUrl": "https://lh3.googleusercontent.com/a/default-user=s128",
            "userId": "109720634882425261277"
          }
        }
      },
      "cell_type": "code",
      "source": [
        "### Run the predictions here and use the model to output the prediction for each image.\n",
        "### Make sure to pre-process the images with the same pre-processing pipeline used earlier.\n",
        "### Feel free to use as many code cells as needed.\n",
        "\n",
        "\n",
        "with tf.Session() as sess:\n",
        "    saver.restore(sess, tf.train.latest_checkpoint('.'))\n",
        "    pred = tf.argmax(logits, 1)\n",
        "    res = sess.run(pred, feed_dict={x: external_X, keep_prob: 1., keep_prob_conv: 1.})\n",
        "    print('logit value: {}'.format(res))\n",
        "    print('correct labels : {}'.format(external_y))"
      ],
      "execution_count": 67,
      "outputs": [
        {
          "output_type": "stream",
          "text": [
            "INFO:tensorflow:Restoring parameters from ./traffic_sign\n",
            "logit value: [34 13 11  1 25]\n",
            "correct labels : [34 13 11  1 25]\n"
          ],
          "name": "stdout"
        }
      ]
    },
    {
      "metadata": {
        "id": "9EAVTzi7BPKz",
        "colab_type": "text"
      },
      "cell_type": "markdown",
      "source": [
        "### Analyze Performance"
      ]
    },
    {
      "metadata": {
        "id": "8pwhZTA7BPK0",
        "colab_type": "code",
        "colab": {
          "autoexec": {
            "startup": false,
            "wait_interval": 0
          },
          "base_uri": "https://localhost:8080/",
          "height": 51
        },
        "outputId": "d44f05a6-d8be-49c5-8e78-df96495461ba",
        "executionInfo": {
          "status": "ok",
          "timestamp": 1526235659533,
          "user_tz": 420,
          "elapsed": 625,
          "user": {
            "displayName": "Thomas Milas",
            "photoUrl": "https://lh3.googleusercontent.com/a/default-user=s128",
            "userId": "109720634882425261277"
          }
        }
      },
      "cell_type": "code",
      "source": [
        "### Calculate the accuracy for these 5 new images. \n",
        "### For example, if the model predicted 1 out of 5 signs correctly, it's 20% accurate on these new images.\n",
        "\n",
        "with tf.Session() as sess:\n",
        "    saver.restore(sess, tf.train.latest_checkpoint('.'))\n",
        "\n",
        "    test_accuracy = evaluate(external_X, external_y)\n",
        "    print(\"Test Accuracy = {:.1%}\".format(test_accuracy))"
      ],
      "execution_count": 68,
      "outputs": [
        {
          "output_type": "stream",
          "text": [
            "INFO:tensorflow:Restoring parameters from ./traffic_sign\n",
            "Test Accuracy = 100.0%\n"
          ],
          "name": "stdout"
        }
      ]
    },
    {
      "metadata": {
        "id": "SurhZtAxBPK3",
        "colab_type": "text"
      },
      "cell_type": "markdown",
      "source": [
        "### Output Top 5 Softmax Probabilities For Each Image Found on the Web"
      ]
    },
    {
      "metadata": {
        "id": "jJWtipyMBPK4",
        "colab_type": "text"
      },
      "cell_type": "markdown",
      "source": [
        "For each of the new images, print out the model's softmax probabilities to show the **certainty** of the model's predictions (limit the output to the top 5 probabilities for each image). [`tf.nn.top_k`](https://www.tensorflow.org/versions/r0.12/api_docs/python/nn.html#top_k) could prove helpful here. \n",
        "\n",
        "The example below demonstrates how tf.nn.top_k can be used to find the top k predictions for each image.\n",
        "\n",
        "`tf.nn.top_k` will return the values and indices (class ids) of the top k predictions. So if k=3, for each sign, it'll return the 3 largest probabilities (out of a possible 43) and the correspoding class ids.\n",
        "\n",
        "Take this numpy array as an example. The values in the array represent predictions. The array contains softmax probabilities for five candidate images with six possible classes. `tf.nn.top_k` is used to choose the three classes with the highest probability:\n",
        "\n",
        "```\n",
        "# (5, 6) array\n",
        "a = np.array([[ 0.24879643,  0.07032244,  0.12641572,  0.34763842,  0.07893497,\n",
        "         0.12789202],\n",
        "       [ 0.28086119,  0.27569815,  0.08594638,  0.0178669 ,  0.18063401,\n",
        "         0.15899337],\n",
        "       [ 0.26076848,  0.23664738,  0.08020603,  0.07001922,  0.1134371 ,\n",
        "         0.23892179],\n",
        "       [ 0.11943333,  0.29198961,  0.02605103,  0.26234032,  0.1351348 ,\n",
        "         0.16505091],\n",
        "       [ 0.09561176,  0.34396535,  0.0643941 ,  0.16240774,  0.24206137,\n",
        "         0.09155967]])\n",
        "```\n",
        "\n",
        "Running it through `sess.run(tf.nn.top_k(tf.constant(a), k=3))` produces:\n",
        "\n",
        "```\n",
        "TopKV2(values=array([[ 0.34763842,  0.24879643,  0.12789202],\n",
        "       [ 0.28086119,  0.27569815,  0.18063401],\n",
        "       [ 0.26076848,  0.23892179,  0.23664738],\n",
        "       [ 0.29198961,  0.26234032,  0.16505091],\n",
        "       [ 0.34396535,  0.24206137,  0.16240774]]), indices=array([[3, 0, 5],\n",
        "       [0, 1, 4],\n",
        "       [0, 5, 1],\n",
        "       [1, 3, 5],\n",
        "       [1, 4, 3]], dtype=int32))\n",
        "```\n",
        "\n",
        "Looking just at the first row we get `[ 0.34763842,  0.24879643,  0.12789202]`, you can confirm these are the 3 largest probabilities in `a`. You'll also notice `[3, 0, 5]` are the corresponding indices."
      ]
    },
    {
      "metadata": {
        "id": "1AaK4qseBPK6",
        "colab_type": "code",
        "colab": {
          "autoexec": {
            "startup": false,
            "wait_interval": 0
          },
          "base_uri": "https://localhost:8080/",
          "height": 867
        },
        "outputId": "ee50ded9-47e8-48af-a3d7-fc1a939279cd",
        "executionInfo": {
          "status": "ok",
          "timestamp": 1526236475605,
          "user_tz": 420,
          "elapsed": 474,
          "user": {
            "displayName": "Thomas Milas",
            "photoUrl": "https://lh3.googleusercontent.com/a/default-user=s128",
            "userId": "109720634882425261277"
          }
        }
      },
      "cell_type": "code",
      "source": [
        "### Print out the top five softmax probabilities for the predictions on the German traffic sign images found on the web. \n",
        "### Feel free to use as many code cells as needed.\n",
        "\n",
        "with tf.Session() as sess:\n",
        "    saver.restore(sess, tf.train.latest_checkpoint('.'))\n",
        "\n",
        "    res = sess.run(logits, feed_dict={x: external_X, keep_prob: 1., keep_prob_conv: 1.})\n",
        "    top_k = sess.run(tf.nn.top_k(tf.constant(res), k=3))\n",
        "    print('res values: {}'.format(res))\n",
        "    print('top k 3 values: {}'.format(top_k))\n",
        "    \n"
      ],
      "execution_count": 82,
      "outputs": [
        {
          "output_type": "stream",
          "text": [
            "INFO:tensorflow:Restoring parameters from ./traffic_sign\n",
            "res values: [[-47.993523  -46.957375  -39.11943   -37.24701   -35.883247  -31.073433\n",
            "  -19.042032  -32.92414   -45.69695   -21.353865  -24.461529  -41.27264\n",
            "  -25.856579  -26.122917  -45.43591   -43.57492   -31.582851  -27.996971\n",
            "  -22.415634  -35.46334   -17.185162  -38.454597  -26.397701  -20.509405\n",
            "  -59.204166  -18.842321  -46.428116  -40.845993  -42.901684  -49.647785\n",
            "  -32.687225  -41.884674  -16.465971  -18.422588   16.212788  -21.880507\n",
            "  -19.692717  -19.577904  -17.468992  -19.661419   -5.4042845 -11.384039\n",
            "  -25.641787 ]\n",
            " [-28.664377  -28.529896  -31.684826  -18.869333  -31.918016  -22.73966\n",
            "  -24.496721  -24.325377  -31.245567  -18.083757  -16.004734  -31.526134\n",
            "  -21.646967   35.825943  -20.720165  -19.131174  -47.570107  -30.430037\n",
            "  -26.83673   -45.814606  -34.87199   -32.086426  -21.276653  -40.114384\n",
            "  -42.78691   -29.506624  -34.95188   -41.05931   -19.104256  -40.983547\n",
            "  -35.111195  -46.898758  -27.909918  -19.458826  -28.678244  -12.033177\n",
            "  -17.860064  -31.77474   -32.8545    -33.488678  -47.63181   -33.01947\n",
            "  -27.164165 ]\n",
            " [-28.104738  -21.956095  -31.1262    -14.722257  -41.114445  -21.108448\n",
            "  -21.534958  -24.238947  -35.647476  -24.59141   -35.755596   10.6417055\n",
            "  -25.778881  -34.89166   -34.617664  -33.999996  -15.929436  -32.20247\n",
            "  -16.236876  -14.825206  -11.709063  -13.6561575 -32.671185  -12.874879\n",
            "  -23.197477  -19.336126  -15.44332    -6.971121   -9.17489   -29.669277\n",
            "   -7.4305882 -17.670038  -15.508035  -29.21497   -28.069805  -17.229982\n",
            "  -31.462244  -30.956337  -23.06449   -24.590797  -15.182838  -14.581357\n",
            "  -23.64057  ]\n",
            " [-11.648891   14.709861   -5.863606  -13.770814  -17.333162  -10.368097\n",
            "  -17.724232  -16.441761  -16.145649  -30.666061  -29.435177  -22.191282\n",
            "  -23.1862    -19.34934   -15.634008  -12.506162  -21.74505   -21.084936\n",
            "  -22.942173  -21.675707  -30.503849  -29.562525  -22.541418  -22.551558\n",
            "  -24.804525  -13.52799   -20.827461  -15.48675   -17.016802  -22.24904\n",
            "  -18.83284    -7.461771  -15.02965   -30.707409  -21.526974  -28.732637\n",
            "  -37.109062  -21.92971   -17.564884  -30.60564   -15.795447  -28.644762\n",
            "  -30.64949  ]\n",
            " [-12.307715   -8.823032  -12.772718  -10.953299  -19.678394   -6.8270307\n",
            "  -14.831111  -12.470522  -15.341736  -16.627382  -13.756655  -11.402656\n",
            "  -15.928497  -15.738516  -18.851229  -14.614043  -13.529169  -17.544012\n",
            "   -5.5608087  -9.071849   -3.4965909 -15.327881   -7.490727   -4.5819187\n",
            "   -7.2853513   1.2745081  -7.96492    -5.2937946  -1.9025964  -8.432587\n",
            "   -4.907692   -9.6068735 -15.028365  -10.407427  -11.539568   -9.733152\n",
            "  -11.396644  -10.230043  -13.012166  -13.830471   -6.6127496 -13.112729\n",
            "  -10.159682 ]]\n",
            "top k 3 values: TopKV2(values=array([[ 16.212788 ,  -5.4042845, -11.384039 ],\n",
            "       [ 35.825943 , -12.033177 , -16.004734 ],\n",
            "       [ 10.6417055,  -6.971121 ,  -7.4305882],\n",
            "       [ 14.709861 ,  -5.863606 ,  -7.461771 ],\n",
            "       [  1.2745081,  -1.9025964,  -3.4965909]], dtype=float32), indices=array([[34, 40, 41],\n",
            "       [13, 35, 10],\n",
            "       [11, 27, 30],\n",
            "       [ 1,  2, 31],\n",
            "       [25, 28, 20]], dtype=int32))\n"
          ],
          "name": "stdout"
        }
      ]
    },
    {
      "metadata": {
        "id": "T-QvoubnBPK8",
        "colab_type": "text"
      },
      "cell_type": "markdown",
      "source": [
        "### Project Writeup\n",
        "\n",
        "Once you have completed the code implementation, document your results in a project writeup using this [template](https://github.com/udacity/CarND-Traffic-Sign-Classifier-Project/blob/master/writeup_template.md) as a guide. The writeup can be in a markdown or pdf file. "
      ]
    },
    {
      "metadata": {
        "id": "ZWAhHelMBPK8",
        "colab_type": "text"
      },
      "cell_type": "markdown",
      "source": [
        "> **Note**: Once you have completed all of the code implementations and successfully answered each question above, you may finalize your work by exporting the iPython Notebook as an HTML document. You can do this by using the menu above and navigating to  \\n\",\n",
        "    \"**File -> Download as -> HTML (.html)**. Include the finished document along with this notebook as your submission."
      ]
    },
    {
      "metadata": {
        "id": "u-2lytmGBPK9",
        "colab_type": "text"
      },
      "cell_type": "markdown",
      "source": [
        "---\n",
        "\n",
        "## Step 4 (Optional): Visualize the Neural Network's State with Test Images\n",
        "\n",
        " This Section is not required to complete but acts as an additional excersise for understaning the output of a neural network's weights. While neural networks can be a great learning device they are often referred to as a black box. We can understand what the weights of a neural network look like better by plotting their feature maps. After successfully training your neural network you can see what it's feature maps look like by plotting the output of the network's weight layers in response to a test stimuli image. From these plotted feature maps, it's possible to see what characteristics of an image the network finds interesting. For a sign, maybe the inner network feature maps react with high activation to the sign's boundary outline or to the contrast in the sign's painted symbol.\n",
        "\n",
        " Provided for you below is the function code that allows you to get the visualization output of any tensorflow weight layer you want. The inputs to the function should be a stimuli image, one used during training or a new one you provided, and then the tensorflow variable name that represents the layer's state during the training process, for instance if you wanted to see what the [LeNet lab's](https://classroom.udacity.com/nanodegrees/nd013/parts/fbf77062-5703-404e-b60c-95b78b2f3f9e/modules/6df7ae49-c61c-4bb2-a23e-6527e69209ec/lessons/601ae704-1035-4287-8b11-e2c2716217ad/concepts/d4aca031-508f-4e0b-b493-e7b706120f81) feature maps looked like for it's second convolutional layer you could enter conv2 as the tf_activation variable.\n",
        "\n",
        "For an example of what feature map outputs look like, check out NVIDIA's results in their paper [End-to-End Deep Learning for Self-Driving Cars](https://devblogs.nvidia.com/parallelforall/deep-learning-self-driving-cars/) in the section Visualization of internal CNN State. NVIDIA was able to show that their network's inner weights had high activations to road boundary lines by comparing feature maps from an image with a clear path to one without. Try experimenting with a similar test to show that your trained network's weights are looking for interesting features, whether it's looking at differences in feature maps from images with or without a sign, or even what feature maps look like in a trained network vs a completely untrained one on the same sign image.\n",
        "\n",
        "<figure>\n",
        " <img src=\"visualize_cnn.png\" width=\"380\" alt=\"Combined Image\" />\n",
        " <figcaption>\n",
        " <p></p> \n",
        " <p style=\"text-align: center;\"> Your output should look something like this (above)</p> \n",
        " </figcaption>\n",
        "</figure>\n",
        " <p></p> \n"
      ]
    },
    {
      "metadata": {
        "id": "cRlhxn637HBY",
        "colab_type": "text"
      },
      "cell_type": "markdown",
      "source": [
        "# Add a copy of convolutions for testing\n",
        "Not very `DRY` but these layers are currently encapsulated in the the modifed LetNet function. "
      ]
    },
    {
      "metadata": {
        "id": "sDV1kb1T6_Gz",
        "colab_type": "code",
        "colab": {
          "autoexec": {
            "startup": false,
            "wait_interval": 0
          }
        }
      },
      "cell_type": "code",
      "source": [
        "x = tf.map_fn(lambda frame: tf.image.per_image_standardization(frame), x)\n",
        "mu = 0\n",
        "sigma = 0.1\n",
        "\n",
        "\n",
        "conv1_W = tf.Variable(tf.truncated_normal(shape=(3, 3, 3, 32), mean = mu, stddev = sigma))\n",
        "conv1_b = tf.Variable(tf.zeros(32))\n",
        "conv1   = tf.nn.conv2d(x, conv1_W, strides=[1, 1, 1, 1], padding='VALID') + conv1_b\n",
        "conv1 = tf.nn.relu(conv1)\n",
        "conv1 = tf.nn.max_pool(conv1, ksize=[1, 2, 2, 1], strides=[1, 2, 2, 1], padding='VALID')\n",
        "\n",
        "conv2_W = tf.Variable(tf.truncated_normal(shape=(3, 3, 32, 64), mean = mu, stddev = sigma))\n",
        "conv2_b = tf.Variable(tf.zeros(64))\n",
        "conv2   = tf.nn.conv2d(conv1, conv2_W, strides=[1, 1, 1, 1], padding='VALID') + conv2_b\n",
        "conv2 = tf.nn.relu(conv2)\n",
        "conv2 = tf.nn.max_pool(conv2, ksize=[1, 2, 2, 1], strides=[1, 2, 2, 1], padding='VALID')\n",
        "\n",
        "conv3_W = tf.Variable(tf.truncated_normal(shape=(3, 3, 64, 128), mean = mu, stddev = sigma))\n",
        "conv3_b = tf.Variable(tf.zeros(128))\n",
        "conv3   = tf.nn.conv2d(conv2, conv3_W, strides=[1, 1, 1, 1], padding='VALID') + conv3_b\n",
        "conv3 = tf.nn.relu(conv3)\n",
        "conv3 = tf.nn.max_pool(conv3, ksize=[1, 2, 2, 1], strides=[1, 2, 2, 1], padding='VALID')"
      ],
      "execution_count": 0,
      "outputs": []
    },
    {
      "metadata": {
        "id": "zXjbCr2a72XW",
        "colab_type": "text"
      },
      "cell_type": "markdown",
      "source": [
        "# Declare feature map function"
      ]
    },
    {
      "metadata": {
        "id": "L9vv4vS-BPK-",
        "colab_type": "code",
        "colab": {
          "autoexec": {
            "startup": false,
            "wait_interval": 0
          }
        }
      },
      "cell_type": "code",
      "source": [
        "### Visualize your network's feature maps here.\n",
        "### Feel free to use as many code cells as needed.\n",
        "\n",
        "# image_input: the test image being fed into the network to produce the feature maps\n",
        "# tf_activation: should be a tf variable name used during your training procedure that represents the calculated state of a specific weight layer\n",
        "# activation_min/max: can be used to view the activation contrast in more detail, by default matplot sets min and max to the actual min and max values of the output\n",
        "# plt_num: used to plot out multiple different weight feature map sets on the same block, just extend the plt number for each new feature map entry\n",
        "\n",
        "def outputFeatureMap(image_input, tf_activation, activation_min=-1, activation_max=-1 ,plt_num=1):\n",
        "    # Here make sure to preprocess your image_input in a way your network expects\n",
        "    # with size, normalization, ect if needed\n",
        "    # image_input =\n",
        "    # Note: x should be the same name as your network's tensorflow data placeholder variable\n",
        "    # If you get an error tf_activation is not defined it may be having trouble accessing the variable from inside a function\n",
        "    with tf.Session() as sess:\n",
        "      sess.run(tf.global_variables_initializer())\n",
        "      activation = tf_activation.eval(session=sess,feed_dict={x : image_input})\n",
        "      featuremaps = activation.shape[3]\n",
        "      plt.figure(plt_num, figsize=(15,15))\n",
        "      for featuremap in range(featuremaps):\n",
        "          if featuremap > 47: break\n",
        "          plt.subplot(6,8, featuremap+1) # sets the number of feature maps to show on each row and column\n",
        "          plt.title('FeatureMap ' + str(featuremap)) # displays the feature map number\n",
        "          if activation_min != -1 & activation_max != -1:\n",
        "              plt.imshow(activation[0,:,:, featuremap], interpolation=\"nearest\", vmin =activation_min, vmax=activation_max, cmap=\"gray\")\n",
        "          elif activation_max != -1:\n",
        "              plt.imshow(activation[0,:,:, featuremap], interpolation=\"nearest\", vmax=activation_max, cmap=\"gray\")\n",
        "          elif activation_min !=-1:\n",
        "              plt.imshow(activation[0,:,:, featuremap], interpolation=\"nearest\", vmin=activation_min, cmap=\"gray\")\n",
        "          else:\n",
        "              plt.imshow(activation[0,:,:, featuremap], interpolation=\"nearest\", cmap=\"gray\")\n",
        "            "
      ],
      "execution_count": 0,
      "outputs": []
    },
    {
      "metadata": {
        "id": "IFFUCI-47um9",
        "colab_type": "text"
      },
      "cell_type": "markdown",
      "source": [
        "# Choose image and run."
      ]
    },
    {
      "metadata": {
        "id": "1vco3Zbp8GV3",
        "colab_type": "code",
        "colab": {
          "autoexec": {
            "startup": false,
            "wait_interval": 0
          },
          "base_uri": "https://localhost:8080/",
          "height": 571
        },
        "outputId": "11a02c1b-6f6e-43f9-f3d6-7541f655e5e2",
        "executionInfo": {
          "status": "ok",
          "timestamp": 1526239501900,
          "user_tz": 420,
          "elapsed": 3742,
          "user": {
            "displayName": "Thomas Milas",
            "photoUrl": "https://lh3.googleusercontent.com/a/default-user=s128",
            "userId": "109720634882425261277"
          }
        }
      },
      "cell_type": "code",
      "source": [
        "img = external_X[0:1, :, :, :]\n",
        "outputFeatureMap(img, conv1)"
      ],
      "execution_count": 141,
      "outputs": [
        {
          "output_type": "display_data",
          "data": {
            "image/png": "[encoded data removed]",
            "text/plain": [
              "<matplotlib.figure.Figure at 0x7f0bafa5b4e0>"
            ]
          },
          "metadata": {
            "tags": []
          }
        }
      ]
    }
  ]
}